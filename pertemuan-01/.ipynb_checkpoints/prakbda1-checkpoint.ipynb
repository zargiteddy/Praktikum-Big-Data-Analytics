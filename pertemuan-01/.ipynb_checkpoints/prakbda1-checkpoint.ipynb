{
 "cells": [
  {
   "cell_type": "markdown",
   "id": "05bc06e9",
   "metadata": {},
   "source": [
    "# PRAKTIKUM BIG DATA ANALYTICS - PERTEMUAN 1\n",
    "\n",
    "### TUJUAN:\n",
    "1. Mampu mempraktekkan penggunaan python (editor, syntax, struktur, variabel dan struktur data, control statement, function).\n",
    "2. Mampu mengenal dan menggunakan software yang didukung oleh Python."
   ]
  },
  {
   "cell_type": "markdown",
   "id": "500a7743",
   "metadata": {},
   "source": [
    "# PRAKTIK"
   ]
  },
  {
   "cell_type": "markdown",
   "id": "934b70a6",
   "metadata": {},
   "source": [
    "## 1. Membuat variabel dan melakukan pemanggilan variabel"
   ]
  },
  {
   "cell_type": "code",
   "execution_count": 1,
   "id": "115e7244",
   "metadata": {},
   "outputs": [
    {
     "name": "stdout",
     "output_type": "stream",
     "text": [
      "Hello World\n",
      "Nilai a =  12\n"
     ]
    }
   ],
   "source": [
    "print(\"Hello World\")\n",
    "\n",
    "x = 12\n",
    "print(\"Nilai a = \", x)"
   ]
  },
  {
   "cell_type": "markdown",
   "id": "4b56b146",
   "metadata": {},
   "source": [
    "Hal pertama yang kita lakukan adalah mencetak kalimat “Hello World” dengan mengetik print(“Hello World”). Kemudian dilanjutkan dengan membuat variabel x yang memiliki value 12. Untuk menampilkan nilai dari variable x tersebut, kita tampilkan dengan menuliskan print(“Nilai a = “, x) sehingga muncul kalimat Nilai a = 12 di output."
   ]
  },
  {
   "cell_type": "markdown",
   "id": "5ffaa029",
   "metadata": {},
   "source": [
    "## 2. Menjalankan beberapa perintah"
   ]
  },
  {
   "cell_type": "markdown",
   "id": "cdb9e9c7",
   "metadata": {},
   "source": [
    "### 1) Penggunaan Print dan Variabel"
   ]
  },
  {
   "cell_type": "code",
   "execution_count": 16,
   "id": "1361fb7e",
   "metadata": {},
   "outputs": [
    {
     "name": "stdout",
     "output_type": "stream",
     "text": [
      "Belajar Python untuk Big Data Anlytics\n",
      "16\n"
     ]
    }
   ],
   "source": [
    "print(\"Belajar Python untuk Big Data Anlytics\")\n",
    "a = 12\n",
    "b = 4\n",
    "c = a + b\n",
    "print(c)"
   ]
  },
  {
   "cell_type": "code",
   "execution_count": 4,
   "id": "7b99f941",
   "metadata": {},
   "outputs": [
    {
     "name": "stdout",
     "output_type": "stream",
     "text": [
      "16\n"
     ]
    }
   ],
   "source": [
    "a = 12\n",
    "b = 4\n",
    "c = a + b\n",
    "print(c)"
   ]
  },
  {
   "cell_type": "markdown",
   "id": "8dd2ed5b",
   "metadata": {},
   "source": [
    "Pertama kita buat variabel a bernilai 12 dan b bernilai 4. Kemudian di variabel c, kita tambahkan kedua value dari variabel a (12) dan b (4) dengan menuliskan  “a+b”. Terakhir, kita tampilkan hasil dengan mencetak hasil pertambahan dengan menuliskan print(c)."
   ]
  },
  {
   "cell_type": "markdown",
   "id": "179dc880",
   "metadata": {},
   "source": [
    "### 2) Print penggabungan String dan variable dengan tanda koma"
   ]
  },
  {
   "cell_type": "code",
   "execution_count": 5,
   "id": "9bafbec9",
   "metadata": {
    "scrolled": true
   },
   "outputs": [
    {
     "name": "stdout",
     "output_type": "stream",
     "text": [
      "12 ditambah  4 sama dengan  16\n"
     ]
    }
   ],
   "source": [
    "print(a ,'ditambah ',b ,'sama dengan ',c)"
   ]
  },
  {
   "cell_type": "markdown",
   "id": "2dafda3b",
   "metadata": {},
   "source": [
    "kita bisa menampilkan value dari sebuah variabel bersamaan dengan string baru (String tanpa assign ke variable). Formatnya adalah: print(variabel, ‘String’)"
   ]
  },
  {
   "cell_type": "markdown",
   "id": "5d5aee7f",
   "metadata": {},
   "source": [
    "### 3) Print penggabungan menggunakan symbol %d(integer), %f(float, %.nf n sebagai n angka di belakang koma), %s(string)"
   ]
  },
  {
   "cell_type": "code",
   "execution_count": 6,
   "id": "922b027f",
   "metadata": {},
   "outputs": [
    {
     "name": "stdout",
     "output_type": "stream",
     "text": [
      "Nilai A = 12 B = 4 sedangkan C = 16\n"
     ]
    }
   ],
   "source": [
    "print('Nilai A = %d B = %d sedangkan C = %d' %(a,b,c))"
   ]
  },
  {
   "cell_type": "code",
   "execution_count": 7,
   "id": "91a51d88",
   "metadata": {},
   "outputs": [
    {
     "name": "stdout",
     "output_type": "stream",
     "text": [
      "Budi berteman dengan Anto\n"
     ]
    }
   ],
   "source": [
    "nama = 'Budi'\n",
    "teman = 'Anto'\n",
    "print('%s berteman dengan %s' %(nama,teman))"
   ]
  },
  {
   "cell_type": "markdown",
   "id": "0f66c429",
   "metadata": {},
   "source": [
    "Contoh di atas adalah contoh penggunaan string formatting di Python. %d berguna untuk menampilkan integer milik variabel yang sudah dideklarasikan sebelumnya (secara urut dari a ke b ke c). Lalu kita deklarasikan variabel baru untuk menampung value String yaitu nama dengan value ‘Budi’ dan teman untuk value ‘Anto’. Kedua variabel tersebut kita munculkan kembali dengan string formatting $s."
   ]
  },
  {
   "cell_type": "markdown",
   "id": "2b4f469c",
   "metadata": {},
   "source": [
    "### 4) Operator aritmatika : coba jalankan perintah-perintah berikut"
   ]
  },
  {
   "cell_type": "code",
   "execution_count": 8,
   "id": "5e37551c",
   "metadata": {
    "scrolled": true
   },
   "outputs": [
    {
     "name": "stdout",
     "output_type": "stream",
     "text": [
      "43\n",
      "20\n",
      "6\n",
      "10.5\n",
      "10.5\n",
      "1\n",
      "10\n",
      "10.5\n",
      "False\n",
      "True\n",
      "True\n",
      "False\n",
      "False\n",
      "True\n"
     ]
    }
   ],
   "source": [
    "print(21+22)\n",
    "print(34-14)\n",
    "print(2*3)\n",
    "print(21/2)\n",
    "print(21.00/2.00)\n",
    "print(21%2)\n",
    "print(21//2)\n",
    "print(21/2)\n",
    "print(2 > 3)\n",
    "print(5 < 6)\n",
    "print(7 != 8)\n",
    "print(7 == 8)\n",
    "print((2 > 3) & (4 < 7))\n",
    "print((2 > 3) | (4 < 7))"
   ]
  },
  {
   "cell_type": "markdown",
   "id": "ee16fe76",
   "metadata": {},
   "source": [
    "Kode-kode di atas berguna untuk menuliskan berbagai operasi aritmatika (operator yang kita gunakan untuk menghitung operasi matematika mulai dari penjumlahan, pengurangan, perkalian, perpangkatan, dan lain sebagainya) yang ada di pemrograman Python."
   ]
  },
  {
   "cell_type": "code",
   "execution_count": 9,
   "id": "f2f1d726",
   "metadata": {},
   "outputs": [
    {
     "name": "stdout",
     "output_type": "stream",
     "text": [
      "Hello World\n",
      "Nilai a =  12\n"
     ]
    }
   ],
   "source": [
    "print(\"Hello World\")\n",
    "\n",
    "x = 12\n",
    "print(\"Nilai a = \", x)"
   ]
  },
  {
   "cell_type": "markdown",
   "id": "800dbc45",
   "metadata": {},
   "source": [
    "## Contoh penggunaan multiline statements"
   ]
  },
  {
   "cell_type": "code",
   "execution_count": 17,
   "id": "b0c6e254",
   "metadata": {},
   "outputs": [
    {
     "name": "stdout",
     "output_type": "stream",
     "text": [
      "Hi.. How are you?\n",
      "My name is audrey\n"
     ]
    }
   ],
   "source": [
    "print ('Hi.. How are you?')\n",
    "print ('My name is \\\n",
    "audrey')"
   ]
  },
  {
   "cell_type": "code",
   "execution_count": 11,
   "id": "e3a85695",
   "metadata": {},
   "outputs": [
    {
     "name": "stdout",
     "output_type": "stream",
     "text": [
      "40\n"
     ]
    }
   ],
   "source": [
    "x = 4\n",
    "y = \\\n",
    "10\n",
    "print(x*y)"
   ]
  },
  {
   "cell_type": "markdown",
   "id": "c11683cc",
   "metadata": {},
   "source": [
    "Multiline statement digunakan jika kita tidak ingin sebuah baris di Python menjadi terlalu panjang. Multiline statement dapat menjadikan code menjadi lebih readable dan rapi. Contoh penerapannya adalah seperti kode di atas yaitu dengan simbol “\\”. Pertama kita gunakan untuk baris kode string, dan yang kedua untuk assign ke variable dengan nilai integer."
   ]
  },
  {
   "cell_type": "markdown",
   "id": "fe7164a3",
   "metadata": {},
   "source": [
    "# LATIHAN"
   ]
  },
  {
   "cell_type": "markdown",
   "id": "7497706c",
   "metadata": {},
   "source": [
    "## 1. Menghitung luas persegi panjang"
   ]
  },
  {
   "cell_type": "code",
   "execution_count": 12,
   "id": "c7b36588",
   "metadata": {},
   "outputs": [
    {
     "name": "stdout",
     "output_type": "stream",
     "text": [
      "masukkan nilai panjang:12\n",
      "masukkan nilai lebar:6\n",
      "Luas persegi panjang: 72\n"
     ]
    }
   ],
   "source": [
    "def luaspersegipanjang(p,l):     \n",
    "    x=(p*l)     \n",
    "    return x \n",
    "\n",
    "p=int(input(\"masukkan nilai panjang:\")) \n",
    "l=int(input(\"masukkan nilai lebar:\")) \n",
    "print(\"Luas persegi panjang:\", luaspersegipanjang(p,l))"
   ]
  },
  {
   "cell_type": "markdown",
   "id": "fcf01918",
   "metadata": {},
   "source": [
    "Di script program di atas, pertama kita gunakan def sebagai keyword yang digunakan untuk menyatakan suatu fungsi. Fungsi tersebut kita beri nama “luaspersegipanjang” yang menampung parameter p (panjang) dan l (lebar). Kemudian parameter tersebut kita assign ke variabel x dengan rumus luas persegi panjang (panjang kali lebar), kemudian valuenya kita return. Selanjutnya kita buat baris kode untuk melakukan input panjang dan input lebar. Dengan baris kode tersebut, user bisa memasukkan nilai integer secara bebas, kemudian perhitungannya akan diproses oleh program. Terakhir, kita tampilkan hasil perhitungan dengan memanggil kembali fungsi luaspersegipanjang bersama dengan parameter p dan l."
   ]
  },
  {
   "cell_type": "markdown",
   "id": "aa98ba82",
   "metadata": {},
   "source": [
    "## 2. Menghitung luas segitiga"
   ]
  },
  {
   "cell_type": "code",
   "execution_count": 15,
   "id": "9158c54b",
   "metadata": {},
   "outputs": [
    {
     "name": "stdout",
     "output_type": "stream",
     "text": [
      "masukkan nilai alas:5\n",
      "masukkan nilai tinggi:10\n",
      "Luas segitiga: 25.0\n"
     ]
    }
   ],
   "source": [
    "def luassegitiga(a,t):     \n",
    "    x=(0.5*a*t)     \n",
    "    return x \n",
    "\n",
    "a=int(input(\"masukkan nilai alas:\")) \n",
    "t=int(input(\"masukkan nilai tinggi:\")) \n",
    "print(\"Luas segitiga:\", luassegitiga(a,t))"
   ]
  },
  {
   "cell_type": "markdown",
   "id": "eab45212",
   "metadata": {},
   "source": [
    "Sebenarnya metode nya sama dengan program persegi panjang di atas, hanya saja di sini kita menggunakan perhitungan luas segitiga. Jadi, pertama kita gunakan def sebagai keyword yang digunakan untuk menyatakan suatu fungsi yang kita beri nama “luassegitiga” yang menampung parameter a (alas) dan t (tinggi). Kemudian parameter tersebut kita assign ke variabel x dengan rumus luas segitiga (0.5 x a x t), kemudian valuenya kita return. Selanjutnya kita buat baris kode untuk melakukan input alas dan input tinggi. Dengan baris kode itu, kita bisa memasukkan nilai integer dan kemudian perhitungannya akan diproses. Terakhir, kita tampilkan hasil perhitungan dengan memanggil kembali fungsi luassegitiga bersama dengan parameter a dan t."
   ]
  },
  {
   "cell_type": "code",
   "execution_count": null,
   "id": "afd7f8a5",
   "metadata": {},
   "outputs": [],
   "source": []
  }
 ],
 "metadata": {
  "kernelspec": {
   "display_name": "Python 3 (ipykernel)",
   "language": "python",
   "name": "python3"
  },
  "language_info": {
   "codemirror_mode": {
    "name": "ipython",
    "version": 3
   },
   "file_extension": ".py",
   "mimetype": "text/x-python",
   "name": "python",
   "nbconvert_exporter": "python",
   "pygments_lexer": "ipython3",
   "version": "3.9.7"
  }
 },
 "nbformat": 4,
 "nbformat_minor": 5
}
