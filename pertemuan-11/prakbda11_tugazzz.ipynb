{
 "cells": [
  {
   "cell_type": "markdown",
   "id": "7f4880f2",
   "metadata": {},
   "source": [
    "## TUGAS"
   ]
  },
  {
   "cell_type": "markdown",
   "id": "6707ed51",
   "metadata": {},
   "source": [
    "**Buka file dataset yang ada pada modul 6 (material 1) dan lakukan klassifikasi menggunakan SVM dan KNN**"
   ]
  },
  {
   "cell_type": "markdown",
   "id": "6454a059",
   "metadata": {},
   "source": [
    "### 1. Import libraries pandas dan sklearn beserta fungsi-fungsinya"
   ]
  },
  {
   "cell_type": "code",
   "execution_count": 1,
   "id": "64eb644d",
   "metadata": {},
   "outputs": [],
   "source": [
    "import pandas as pd\n",
    "from sklearn.neighbors import KNeighborsClassifier\n",
    "from sklearn import svm\n",
    "from sklearn.naive_bayes import GaussianNB\n",
    "from sklearn.model_selection import train_test_split\n",
    "from sklearn.metrics import accuracy_score\n",
    "from sklearn.metrics import confusion_matrix\n",
    "from sklearn.metrics import classification_report"
   ]
  },
  {
   "cell_type": "markdown",
   "id": "c7534301",
   "metadata": {},
   "source": [
    "### 2. Load dataset pegawai_cab01.csv dengan fungsi pandas yaitu pd.read_csv kemudian letakkan kode untuk load tersebut di dalam variabel bernama data. Lalu, cetak 5 baris pertama dataset"
   ]
  },
  {
   "cell_type": "code",
   "execution_count": 2,
   "id": "a1c47393",
   "metadata": {},
   "outputs": [
    {
     "name": "stdout",
     "output_type": "stream",
     "text": [
      "   nik             nama     gaji    tglmasuk      job_id  \\\n",
      "0  206    William Gietz   8300.0  1990-10-01  AC_ACCOUNT   \n",
      "1  205  Shelley Higgins  12000.0  1987-09-30      AC_MGR   \n",
      "2  200  Jennifer Whalen   4400.0  1987-09-25     AD_ASST   \n",
      "3  100      Steven King  24000.0  1983-06-17     AD_PRES   \n",
      "4  101    Neena Kochhar  17000.0  1987-06-18       AD_VP   \n",
      "\n",
      "                       job_title  \n",
      "0              Public Accountant  \n",
      "1             Accounting Manager  \n",
      "2       Administration Assistant  \n",
      "3                      President  \n",
      "4  Administration Vice President  \n"
     ]
    }
   ],
   "source": [
    "data = pd.read_csv('pegawai_cab01.csv')\n",
    "print(data.head(5))"
   ]
  },
  {
   "cell_type": "markdown",
   "id": "44614060",
   "metadata": {},
   "source": [
    "### 3. Convert nilai bertipe string di kolom job_id menjadi nilai bertipe numerik, karena model machine learning hanya mengenali nilai numerik."
   ]
  },
  {
   "cell_type": "code",
   "execution_count": 3,
   "id": "96e5d1fa",
   "metadata": {},
   "outputs": [
    {
     "data": {
      "text/html": [
       "<div>\n",
       "<style scoped>\n",
       "    .dataframe tbody tr th:only-of-type {\n",
       "        vertical-align: middle;\n",
       "    }\n",
       "\n",
       "    .dataframe tbody tr th {\n",
       "        vertical-align: top;\n",
       "    }\n",
       "\n",
       "    .dataframe thead th {\n",
       "        text-align: right;\n",
       "    }\n",
       "</style>\n",
       "<table border=\"1\" class=\"dataframe\">\n",
       "  <thead>\n",
       "    <tr style=\"text-align: right;\">\n",
       "      <th></th>\n",
       "      <th>nik</th>\n",
       "      <th>nama</th>\n",
       "      <th>gaji</th>\n",
       "      <th>tglmasuk</th>\n",
       "      <th>job_id</th>\n",
       "      <th>job_title</th>\n",
       "    </tr>\n",
       "  </thead>\n",
       "  <tbody>\n",
       "    <tr>\n",
       "      <th>0</th>\n",
       "      <td>206</td>\n",
       "      <td>William Gietz</td>\n",
       "      <td>8300.0</td>\n",
       "      <td>1990-10-01</td>\n",
       "      <td>0</td>\n",
       "      <td>Public Accountant</td>\n",
       "    </tr>\n",
       "    <tr>\n",
       "      <th>1</th>\n",
       "      <td>205</td>\n",
       "      <td>Shelley Higgins</td>\n",
       "      <td>12000.0</td>\n",
       "      <td>1987-09-30</td>\n",
       "      <td>1</td>\n",
       "      <td>Accounting Manager</td>\n",
       "    </tr>\n",
       "    <tr>\n",
       "      <th>2</th>\n",
       "      <td>200</td>\n",
       "      <td>Jennifer Whalen</td>\n",
       "      <td>4400.0</td>\n",
       "      <td>1987-09-25</td>\n",
       "      <td>2</td>\n",
       "      <td>Administration Assistant</td>\n",
       "    </tr>\n",
       "    <tr>\n",
       "      <th>3</th>\n",
       "      <td>100</td>\n",
       "      <td>Steven King</td>\n",
       "      <td>24000.0</td>\n",
       "      <td>1983-06-17</td>\n",
       "      <td>3</td>\n",
       "      <td>President</td>\n",
       "    </tr>\n",
       "    <tr>\n",
       "      <th>4</th>\n",
       "      <td>101</td>\n",
       "      <td>Neena Kochhar</td>\n",
       "      <td>17000.0</td>\n",
       "      <td>1987-06-18</td>\n",
       "      <td>4</td>\n",
       "      <td>Administration Vice President</td>\n",
       "    </tr>\n",
       "    <tr>\n",
       "      <th>5</th>\n",
       "      <td>102</td>\n",
       "      <td>Lex De Haan</td>\n",
       "      <td>17000.0</td>\n",
       "      <td>1985-06-19</td>\n",
       "      <td>4</td>\n",
       "      <td>Administration Vice President</td>\n",
       "    </tr>\n",
       "    <tr>\n",
       "      <th>6</th>\n",
       "      <td>109</td>\n",
       "      <td>Daniel Faviet</td>\n",
       "      <td>9000.0</td>\n",
       "      <td>1990-06-26</td>\n",
       "      <td>5</td>\n",
       "      <td>Accountant</td>\n",
       "    </tr>\n",
       "    <tr>\n",
       "      <th>7</th>\n",
       "      <td>110</td>\n",
       "      <td>John Chen</td>\n",
       "      <td>8200.0</td>\n",
       "      <td>1997-06-27</td>\n",
       "      <td>5</td>\n",
       "      <td>Accountant</td>\n",
       "    </tr>\n",
       "    <tr>\n",
       "      <th>8</th>\n",
       "      <td>111</td>\n",
       "      <td>Ismael Sciarra</td>\n",
       "      <td>4200.0</td>\n",
       "      <td>1985-06-28</td>\n",
       "      <td>5</td>\n",
       "      <td>Accountant</td>\n",
       "    </tr>\n",
       "    <tr>\n",
       "      <th>9</th>\n",
       "      <td>112</td>\n",
       "      <td>Jose Manuel Urman</td>\n",
       "      <td>7800.0</td>\n",
       "      <td>1985-06-29</td>\n",
       "      <td>5</td>\n",
       "      <td>Accountant</td>\n",
       "    </tr>\n",
       "  </tbody>\n",
       "</table>\n",
       "</div>"
      ],
      "text/plain": [
       "   nik               nama     gaji    tglmasuk  job_id  \\\n",
       "0  206      William Gietz   8300.0  1990-10-01       0   \n",
       "1  205    Shelley Higgins  12000.0  1987-09-30       1   \n",
       "2  200    Jennifer Whalen   4400.0  1987-09-25       2   \n",
       "3  100        Steven King  24000.0  1983-06-17       3   \n",
       "4  101      Neena Kochhar  17000.0  1987-06-18       4   \n",
       "5  102        Lex De Haan  17000.0  1985-06-19       4   \n",
       "6  109      Daniel Faviet   9000.0  1990-06-26       5   \n",
       "7  110          John Chen   8200.0  1997-06-27       5   \n",
       "8  111     Ismael Sciarra   4200.0  1985-06-28       5   \n",
       "9  112  Jose Manuel Urman   7800.0  1985-06-29       5   \n",
       "\n",
       "                       job_title  \n",
       "0              Public Accountant  \n",
       "1             Accounting Manager  \n",
       "2       Administration Assistant  \n",
       "3                      President  \n",
       "4  Administration Vice President  \n",
       "5  Administration Vice President  \n",
       "6                     Accountant  \n",
       "7                     Accountant  \n",
       "8                     Accountant  \n",
       "9                     Accountant  "
      ]
     },
     "execution_count": 3,
     "metadata": {},
     "output_type": "execute_result"
    }
   ],
   "source": [
    "jobid = {\"AC_ACCOUNT\":0, \"AC_MGR\":1, \"AD_ASST\":2, \"AD_PRES\":3, \"AD_VP\":4, \n",
    "         \"FI_ACCOUNT\":5, \"FI_MGR\":6, \"HR_REP\":7, \"IT_PROG\":8, \"IT_SUPP\":9,\n",
    "        \"MK_MAN\":10, \"MK_REP\":11, \"PR_REP\":12, \"PU_CLERK\":13, \"PU_MAN\":14, \n",
    "         \"SA_MAN\":15, \"SA_REP\":16, \"SH_CLERK\":17, \"ST_CLERK\":18,\"ST_MAN\":19}\n",
    "data[\"job_id\"] = data[\"job_id\"].map(jobid)\n",
    "\n",
    "data.head(10)"
   ]
  },
  {
   "cell_type": "markdown",
   "id": "23cba3a5",
   "metadata": {},
   "source": [
    "### 4. Variabel/kolom nik, nama, dan tglmasuk tidak berpengaruh terhadap job_title. Maka dari itu, kita drop kolom-kolom tersebut supaya dataset terlihat lebih ‘clean’. Kita gunakan fungsi drop untuk menghilangkan kolom tersebut beserta isinya."
   ]
  },
  {
   "cell_type": "code",
   "execution_count": 4,
   "id": "4a41e929",
   "metadata": {},
   "outputs": [
    {
     "name": "stdout",
     "output_type": "stream",
     "text": [
      "      gaji  job_id                      job_title\n",
      "0   8300.0       0              Public Accountant\n",
      "1  12000.0       1             Accounting Manager\n",
      "2   4400.0       2       Administration Assistant\n",
      "3  24000.0       3                      President\n",
      "4  17000.0       4  Administration Vice President\n"
     ]
    }
   ],
   "source": [
    "drop_column = [\"nik\", \"nama\", \"tglmasuk\"]\n",
    "data.drop(drop_column, axis=1, inplace=True)\n",
    "print(data.head())"
   ]
  },
  {
   "cell_type": "markdown",
   "id": "63d1764e",
   "metadata": {},
   "source": [
    "### 5. Kita buat variabel X yang terdiri dari 2 feature diatas dan variabel y yang merupakan class/target yaitu job_title. Semua dataset dalam bentuk X dan y di ubah kedalam vector matric."
   ]
  },
  {
   "cell_type": "code",
   "execution_count": 5,
   "id": "894fe8bb",
   "metadata": {},
   "outputs": [],
   "source": [
    "X = data.iloc[:,:-1].values\n",
    "y = data['job_title']"
   ]
  },
  {
   "cell_type": "code",
   "execution_count": 6,
   "id": "527b052b",
   "metadata": {},
   "outputs": [
    {
     "data": {
      "text/plain": [
       "array([[8.30e+03, 0.00e+00],\n",
       "       [1.20e+04, 1.00e+00],\n",
       "       [4.40e+03, 2.00e+00],\n",
       "       [2.40e+04, 3.00e+00],\n",
       "       [1.70e+04, 4.00e+00],\n",
       "       [1.70e+04, 4.00e+00],\n",
       "       [9.00e+03, 5.00e+00],\n",
       "       [8.20e+03, 5.00e+00],\n",
       "       [4.20e+03, 5.00e+00],\n",
       "       [7.80e+03, 5.00e+00],\n",
       "       [6.90e+03, 5.00e+00],\n",
       "       [1.20e+04, 6.00e+00],\n",
       "       [6.50e+03, 7.00e+00],\n",
       "       [9.00e+03, 8.00e+00],\n",
       "       [2.80e+03, 8.00e+00],\n",
       "       [4.80e+03, 8.00e+00],\n",
       "       [4.80e+03, 8.00e+00],\n",
       "       [4.20e+03, 8.00e+00],\n",
       "       [2.60e+03, 9.00e+00],\n",
       "       [1.30e+04, 1.00e+01],\n",
       "       [6.00e+03, 1.10e+01],\n",
       "       [1.00e+04, 1.20e+01],\n",
       "       [3.10e+03, 1.30e+01],\n",
       "       [2.90e+03, 1.30e+01],\n",
       "       [2.80e+03, 1.30e+01],\n",
       "       [2.50e+03, 1.30e+01],\n",
       "       [1.10e+04, 1.40e+01],\n",
       "       [1.40e+04, 1.50e+01],\n",
       "       [1.35e+04, 1.50e+01],\n",
       "       [1.20e+04, 1.50e+01],\n",
       "       [1.10e+04, 1.50e+01],\n",
       "       [1.05e+04, 1.50e+01],\n",
       "       [1.00e+04, 1.60e+01],\n",
       "       [9.50e+03, 1.60e+01],\n",
       "       [9.00e+03, 1.60e+01],\n",
       "       [8.00e+03, 1.60e+01],\n",
       "       [7.50e+03, 1.60e+01],\n",
       "       [7.00e+03, 1.60e+01],\n",
       "       [1.00e+04, 1.60e+01],\n",
       "       [9.50e+03, 1.60e+01],\n",
       "       [9.00e+03, 1.60e+01],\n",
       "       [8.00e+03, 1.60e+01],\n",
       "       [7.50e+03, 1.60e+01],\n",
       "       [7.00e+03, 1.60e+01],\n",
       "       [1.05e+04, 1.60e+01],\n",
       "       [9.50e+03, 1.60e+01],\n",
       "       [7.20e+03, 1.60e+01],\n",
       "       [6.80e+03, 1.60e+01],\n",
       "       [6.40e+03, 1.60e+01],\n",
       "       [6.20e+03, 1.60e+01],\n",
       "       [1.15e+04, 1.60e+01],\n",
       "       [1.00e+04, 1.60e+01],\n",
       "       [9.60e+03, 1.60e+01],\n",
       "       [7.40e+03, 1.60e+01],\n",
       "       [7.30e+03, 1.60e+01],\n",
       "       [6.10e+03, 1.60e+01],\n",
       "       [1.10e+04, 1.60e+01],\n",
       "       [8.80e+03, 1.60e+01],\n",
       "       [8.60e+03, 1.60e+01],\n",
       "       [8.40e+03, 1.60e+01],\n",
       "       [7.00e+03, 1.60e+01],\n",
       "       [6.20e+03, 1.60e+01],\n",
       "       [3.20e+03, 1.70e+01],\n",
       "       [3.10e+03, 1.70e+01],\n",
       "       [2.50e+03, 1.70e+01],\n",
       "       [2.80e+03, 1.70e+01],\n",
       "       [4.20e+03, 1.70e+01],\n",
       "       [4.10e+03, 1.70e+01],\n",
       "       [3.40e+03, 1.70e+01],\n",
       "       [3.00e+03, 1.70e+01],\n",
       "       [3.80e+03, 1.70e+01],\n",
       "       [3.60e+03, 1.70e+01],\n",
       "       [2.90e+03, 1.70e+01],\n",
       "       [2.50e+03, 1.70e+01],\n",
       "       [4.00e+03, 1.70e+01],\n",
       "       [3.90e+03, 1.70e+01],\n",
       "       [3.20e+03, 1.70e+01],\n",
       "       [2.80e+03, 1.70e+01],\n",
       "       [3.10e+03, 1.70e+01],\n",
       "       [3.00e+03, 1.70e+01],\n",
       "       [2.60e+03, 1.70e+01],\n",
       "       [2.60e+03, 1.70e+01],\n",
       "       [3.20e+03, 1.80e+01],\n",
       "       [2.70e+03, 1.80e+01],\n",
       "       [2.40e+03, 1.80e+01],\n",
       "       [2.20e+03, 1.80e+01],\n",
       "       [3.30e+03, 1.80e+01],\n",
       "       [2.80e+03, 1.80e+01],\n",
       "       [2.50e+03, 1.80e+01],\n",
       "       [2.10e+03, 1.80e+01],\n",
       "       [3.30e+03, 1.80e+01],\n",
       "       [2.90e+03, 1.80e+01],\n",
       "       [2.40e+03, 1.80e+01],\n",
       "       [2.20e+03, 1.80e+01],\n",
       "       [3.60e+03, 1.80e+01],\n",
       "       [3.20e+03, 1.80e+01],\n",
       "       [2.70e+03, 1.80e+01],\n",
       "       [2.50e+03, 1.80e+01],\n",
       "       [3.50e+03, 1.80e+01],\n",
       "       [3.10e+03, 1.80e+01],\n",
       "       [2.60e+03, 1.80e+01],\n",
       "       [2.50e+03, 1.80e+01],\n",
       "       [8.00e+03, 1.90e+01],\n",
       "       [8.20e+03, 1.90e+01],\n",
       "       [7.90e+03, 1.90e+01],\n",
       "       [6.50e+03, 1.90e+01],\n",
       "       [5.80e+03, 1.90e+01]])"
      ]
     },
     "execution_count": 6,
     "metadata": {},
     "output_type": "execute_result"
    }
   ],
   "source": [
    "X"
   ]
  },
  {
   "cell_type": "code",
   "execution_count": 7,
   "id": "08c980f9",
   "metadata": {
    "scrolled": true
   },
   "outputs": [
    {
     "data": {
      "text/plain": [
       "0                  Public Accountant\n",
       "1                 Accounting Manager\n",
       "2           Administration Assistant\n",
       "3                          President\n",
       "4      Administration Vice President\n",
       "                   ...              \n",
       "102                    Stock Manager\n",
       "103                    Stock Manager\n",
       "104                    Stock Manager\n",
       "105                    Stock Manager\n",
       "106                    Stock Manager\n",
       "Name: job_title, Length: 107, dtype: object"
      ]
     },
     "execution_count": 7,
     "metadata": {},
     "output_type": "execute_result"
    }
   ],
   "source": [
    "y"
   ]
  },
  {
   "cell_type": "markdown",
   "id": "cd83bc8f",
   "metadata": {},
   "source": [
    "### 6. Dari dataset diatas akan dibagi menjadi data train dan data testing dengan menggunakan modul train_test_split dari sklearn agar dapat membagi data train dan data test berdasarkan rancangan kita. Data train akan kita pakai sebanyak 80% dan testing 20%. Setelah menjalankan kode dibawah, perhatikan tampilan data untuk X_train dan y_train"
   ]
  },
  {
   "cell_type": "code",
   "execution_count": 8,
   "id": "ae9a1d6c",
   "metadata": {},
   "outputs": [],
   "source": [
    "X_train, X_test, y_train, y_test = train_test_split(X, y, test_size=0.20, random_state=27)"
   ]
  },
  {
   "cell_type": "code",
   "execution_count": 9,
   "id": "2caae813",
   "metadata": {
    "scrolled": true
   },
   "outputs": [
    {
     "name": "stdout",
     "output_type": "stream",
     "text": [
      "[[7.00e+03 1.60e+01]\n",
      " [1.40e+04 1.50e+01]\n",
      " [2.10e+03 1.80e+01]\n",
      " [6.10e+03 1.60e+01]\n",
      " [2.50e+03 1.80e+01]\n",
      " [4.10e+03 1.70e+01]\n",
      " [2.60e+03 9.00e+00]\n",
      " [1.10e+04 1.50e+01]\n",
      " [2.50e+03 1.70e+01]\n",
      " [1.00e+04 1.60e+01]\n",
      " [3.50e+03 1.80e+01]\n",
      " [8.00e+03 1.60e+01]\n",
      " [6.00e+03 1.10e+01]\n",
      " [7.90e+03 1.90e+01]\n",
      " [1.00e+04 1.20e+01]\n",
      " [1.10e+04 1.40e+01]\n",
      " [2.80e+03 8.00e+00]\n",
      " [2.60e+03 1.70e+01]\n",
      " [7.00e+03 1.60e+01]\n",
      " [8.60e+03 1.60e+01]\n",
      " [8.00e+03 1.60e+01]\n",
      " [1.20e+04 1.00e+00]\n",
      " [1.20e+04 6.00e+00]\n",
      " [3.30e+03 1.80e+01]\n",
      " [1.05e+04 1.60e+01]\n",
      " [9.00e+03 1.60e+01]\n",
      " [2.50e+03 1.80e+01]\n",
      " [3.10e+03 1.80e+01]\n",
      " [8.30e+03 0.00e+00]\n",
      " [2.60e+03 1.70e+01]\n",
      " [2.90e+03 1.80e+01]\n",
      " [4.80e+03 8.00e+00]\n",
      " [7.80e+03 5.00e+00]\n",
      " [1.20e+04 1.50e+01]\n",
      " [7.50e+03 1.60e+01]\n",
      " [4.20e+03 5.00e+00]\n",
      " [1.35e+04 1.50e+01]\n",
      " [8.20e+03 5.00e+00]\n",
      " [2.40e+03 1.80e+01]\n",
      " [2.80e+03 1.70e+01]\n",
      " [2.70e+03 1.80e+01]\n",
      " [4.20e+03 8.00e+00]\n",
      " [9.60e+03 1.60e+01]\n",
      " [2.50e+03 1.70e+01]\n",
      " [2.90e+03 1.30e+01]\n",
      " [3.90e+03 1.70e+01]\n",
      " [5.80e+03 1.90e+01]\n",
      " [3.20e+03 1.80e+01]\n",
      " [1.70e+04 4.00e+00]\n",
      " [2.80e+03 1.80e+01]\n",
      " [6.40e+03 1.60e+01]\n",
      " [4.20e+03 1.70e+01]\n",
      " [9.50e+03 1.60e+01]\n",
      " [7.40e+03 1.60e+01]\n",
      " [8.40e+03 1.60e+01]\n",
      " [9.50e+03 1.60e+01]\n",
      " [3.60e+03 1.70e+01]\n",
      " [3.30e+03 1.80e+01]\n",
      " [3.20e+03 1.80e+01]\n",
      " [2.40e+04 3.00e+00]\n",
      " [3.20e+03 1.70e+01]\n",
      " [1.00e+04 1.60e+01]\n",
      " [1.00e+04 1.60e+01]\n",
      " [3.00e+03 1.70e+01]\n",
      " [4.80e+03 8.00e+00]\n",
      " [2.70e+03 1.80e+01]\n",
      " [8.20e+03 1.90e+01]\n",
      " [7.30e+03 1.60e+01]\n",
      " [3.20e+03 1.70e+01]\n",
      " [1.70e+04 4.00e+00]\n",
      " [6.20e+03 1.60e+01]\n",
      " [6.90e+03 5.00e+00]\n",
      " [7.20e+03 1.60e+01]\n",
      " [7.50e+03 1.60e+01]\n",
      " [3.10e+03 1.70e+01]\n",
      " [4.40e+03 2.00e+00]\n",
      " [9.00e+03 8.00e+00]\n",
      " [2.50e+03 1.30e+01]\n",
      " [2.80e+03 1.30e+01]\n",
      " [7.00e+03 1.60e+01]\n",
      " [6.50e+03 1.90e+01]\n",
      " [1.05e+04 1.50e+01]\n",
      " [2.90e+03 1.70e+01]\n",
      " [1.10e+04 1.60e+01]\n",
      " [1.30e+04 1.00e+01]]\n",
      "60     Sales Representative\n",
      "27            Sales Manager\n",
      "89              Stock Clerk\n",
      "55     Sales Representative\n",
      "97              Stock Clerk\n",
      "               ...         \n",
      "105           Stock Manager\n",
      "31            Sales Manager\n",
      "72           Shipping Clerk\n",
      "56     Sales Representative\n",
      "19        Marketing Manager\n",
      "Name: job_title, Length: 85, dtype: object\n"
     ]
    }
   ],
   "source": [
    "print(X_train)\n",
    "print(y_train)"
   ]
  },
  {
   "cell_type": "markdown",
   "id": "65e9e0e0",
   "metadata": {},
   "source": [
    "### 7. Kita bandingkan performa dua klasifikasi pada data tersebut yaitu dengan SVM dan KNN"
   ]
  },
  {
   "cell_type": "code",
   "execution_count": 10,
   "id": "859da19d",
   "metadata": {},
   "outputs": [
    {
     "data": {
      "text/plain": [
       "KNeighborsClassifier()"
      ]
     },
     "execution_count": 10,
     "metadata": {},
     "output_type": "execute_result"
    }
   ],
   "source": [
    "SVC_model = svm.SVC()\n",
    "KNN_model = KNeighborsClassifier(n_neighbors=5)\n",
    "\n",
    "SVC_model.fit(X_train, y_train)\n",
    "KNN_model.fit(X_train, y_train)"
   ]
  },
  {
   "cell_type": "code",
   "execution_count": 11,
   "id": "25aa9a9b",
   "metadata": {},
   "outputs": [],
   "source": [
    "SVC_prediction = SVC_model.predict(X_test)\n",
    "KNN_prediction = KNN_model.predict(X_test)"
   ]
  },
  {
   "cell_type": "markdown",
   "id": "3e796ffa",
   "metadata": {},
   "source": [
    "kita tuliskan model yang akan digunakan yaitu svm dan knn yang diset dengan neighbors 5. Kemudian kedua model machine learning tersebut kita fit-kan pada `X_train` dan `y_train`. Lalu, kita prediksi kinerja model tersebut dengan data test yaitu dengan baris kode `SVC_prediction = SVC_model.predict(X_test)` dan `KNN_prediction = KNN_model.predict(X_test)`."
   ]
  },
  {
   "cell_type": "markdown",
   "id": "e7b30c01",
   "metadata": {},
   "source": [
    "### 8. Setelah model kita definisikan selanjutkan akan kita lakukan predict dari hasil pemodelan diatas dan kita hitung koefisien matriknya"
   ]
  },
  {
   "cell_type": "code",
   "execution_count": 12,
   "id": "81fbeb92",
   "metadata": {},
   "outputs": [
    {
     "name": "stdout",
     "output_type": "stream",
     "text": [
      "0.6363636363636364\n",
      "0.6363636363636364\n",
      "[[0 0 0 0 0 0 0]\n",
      " [0 0 0 0 0 0 0]\n",
      " [0 0 0 0 0 0 0]\n",
      " [1 1 0 6 0 0 1]\n",
      " [0 0 0 0 3 1 0]\n",
      " [0 0 1 0 3 5 0]\n",
      " [0 0 0 0 0 0 0]]\n",
      "                                precision    recall  f1-score   support\n",
      "\n",
      "                    Accountant       0.00      0.00      0.00         0\n",
      "Human Resources Representative       0.00      0.00      0.00         0\n",
      "              Purchasing Clerk       0.00      0.00      0.00         0\n",
      "                 Sales Manager       0.00      0.00      0.00         1\n",
      "          Sales Representative       0.83      0.62      0.71         8\n",
      "                Shipping Clerk       0.83      0.62      0.71         8\n",
      "                   Stock Clerk       0.67      0.80      0.73         5\n",
      "                 Stock Manager       0.00      0.00      0.00         0\n",
      "\n",
      "                      accuracy                           0.64        22\n",
      "                     macro avg       0.29      0.26      0.27        22\n",
      "                  weighted avg       0.76      0.64      0.68        22\n",
      "\n"
     ]
    },
    {
     "name": "stderr",
     "output_type": "stream",
     "text": [
      "C:\\Users\\LENOVO\\anaconda3\\lib\\site-packages\\sklearn\\metrics\\_classification.py:1248: UndefinedMetricWarning: Precision and F-score are ill-defined and being set to 0.0 in labels with no predicted samples. Use `zero_division` parameter to control this behavior.\n",
      "  _warn_prf(average, modifier, msg_start, len(result))\n",
      "C:\\Users\\LENOVO\\anaconda3\\lib\\site-packages\\sklearn\\metrics\\_classification.py:1248: UndefinedMetricWarning: Recall and F-score are ill-defined and being set to 0.0 in labels with no true samples. Use `zero_division` parameter to control this behavior.\n",
      "  _warn_prf(average, modifier, msg_start, len(result))\n",
      "C:\\Users\\LENOVO\\anaconda3\\lib\\site-packages\\sklearn\\metrics\\_classification.py:1248: UndefinedMetricWarning: Precision and F-score are ill-defined and being set to 0.0 in labels with no predicted samples. Use `zero_division` parameter to control this behavior.\n",
      "  _warn_prf(average, modifier, msg_start, len(result))\n",
      "C:\\Users\\LENOVO\\anaconda3\\lib\\site-packages\\sklearn\\metrics\\_classification.py:1248: UndefinedMetricWarning: Recall and F-score are ill-defined and being set to 0.0 in labels with no true samples. Use `zero_division` parameter to control this behavior.\n",
      "  _warn_prf(average, modifier, msg_start, len(result))\n",
      "C:\\Users\\LENOVO\\anaconda3\\lib\\site-packages\\sklearn\\metrics\\_classification.py:1248: UndefinedMetricWarning: Precision and F-score are ill-defined and being set to 0.0 in labels with no predicted samples. Use `zero_division` parameter to control this behavior.\n",
      "  _warn_prf(average, modifier, msg_start, len(result))\n",
      "C:\\Users\\LENOVO\\anaconda3\\lib\\site-packages\\sklearn\\metrics\\_classification.py:1248: UndefinedMetricWarning: Recall and F-score are ill-defined and being set to 0.0 in labels with no true samples. Use `zero_division` parameter to control this behavior.\n",
      "  _warn_prf(average, modifier, msg_start, len(result))\n"
     ]
    }
   ],
   "source": [
    "print(accuracy_score(SVC_prediction, y_test))\n",
    "print(accuracy_score(KNN_prediction, y_test))\n",
    "print(confusion_matrix(SVC_prediction, y_test))\n",
    "print(classification_report(KNN_prediction, y_test))"
   ]
  },
  {
   "cell_type": "markdown",
   "id": "a01718eb",
   "metadata": {},
   "source": [
    "Dari 2 metode diatas dapat disimpulkan bahwa ternyata KNN dan SVM (support vector machine) mempunyai hasil yang sama. Accuracy score memperlihatkan performa classifier dalam menguji data dalam bentuk presentase. Accuracy score merupakan cara paling sederhana dalam menghitung performa. Confusion matrix dan Classification Report memberikan kita informasi detail tentang performa classifier, seperti precision, recall, f1-score, dan support. Precision adalah positive predictive value, yang berarti rasio prediksi positif yang benar dengan total prediksi positif. Recall adalah true positive rate, yang berarti Rasio prediksi positif yang benar dengan total contoh positif. F1-score menggabungkan precision dan recall classifier ke dalam satu metrik dengan mengambil rata-rata harmoniknya. Support adalah jumlah kemunculan setiap kelas tertentu dalam respons true (respons dalam set test)."
   ]
  },
  {
   "cell_type": "markdown",
   "id": "e8c2a174",
   "metadata": {},
   "source": [
    "### 9. Apabila ingin melihat hasil prediksi SVM dan KNN → kita tinggal panggil variabel prediksi yang sudah didefinisikan"
   ]
  },
  {
   "cell_type": "code",
   "execution_count": 13,
   "id": "3149245e",
   "metadata": {},
   "outputs": [
    {
     "data": {
      "text/plain": [
       "array(['Shipping Clerk', 'Sales Representative', 'Stock Clerk',\n",
       "       'Stock Clerk', 'Sales Representative', 'Stock Clerk',\n",
       "       'Sales Representative', 'Sales Representative',\n",
       "       'Sales Representative', 'Stock Clerk', 'Sales Representative',\n",
       "       'Stock Clerk', 'Sales Representative', 'Shipping Clerk',\n",
       "       'Stock Clerk', 'Sales Representative', 'Sales Representative',\n",
       "       'Stock Clerk', 'Shipping Clerk', 'Stock Clerk', 'Shipping Clerk',\n",
       "       'Stock Clerk'], dtype=object)"
      ]
     },
     "execution_count": 13,
     "metadata": {},
     "output_type": "execute_result"
    }
   ],
   "source": [
    "SVC_prediction"
   ]
  },
  {
   "cell_type": "code",
   "execution_count": 14,
   "id": "a112ef67",
   "metadata": {},
   "outputs": [
    {
     "data": {
      "text/plain": [
       "array(['Stock Clerk', 'Sales Representative', 'Stock Clerk',\n",
       "       'Stock Clerk', 'Sales Representative', 'Shipping Clerk',\n",
       "       'Sales Representative', 'Sales Representative',\n",
       "       'Sales Representative', 'Shipping Clerk', 'Sales Representative',\n",
       "       'Stock Clerk', 'Sales Manager', 'Shipping Clerk', 'Shipping Clerk',\n",
       "       'Sales Representative', 'Sales Representative', 'Shipping Clerk',\n",
       "       'Stock Clerk', 'Shipping Clerk', 'Shipping Clerk',\n",
       "       'Shipping Clerk'], dtype=object)"
      ]
     },
     "execution_count": 14,
     "metadata": {},
     "output_type": "execute_result"
    }
   ],
   "source": [
    "KNN_prediction"
   ]
  },
  {
   "cell_type": "code",
   "execution_count": null,
   "id": "c9d60aa4",
   "metadata": {},
   "outputs": [],
   "source": []
  }
 ],
 "metadata": {
  "kernelspec": {
   "display_name": "Python 3 (ipykernel)",
   "language": "python",
   "name": "python3"
  },
  "language_info": {
   "codemirror_mode": {
    "name": "ipython",
    "version": 3
   },
   "file_extension": ".py",
   "mimetype": "text/x-python",
   "name": "python",
   "nbconvert_exporter": "python",
   "pygments_lexer": "ipython3",
   "version": "3.9.7"
  }
 },
 "nbformat": 4,
 "nbformat_minor": 5
}
