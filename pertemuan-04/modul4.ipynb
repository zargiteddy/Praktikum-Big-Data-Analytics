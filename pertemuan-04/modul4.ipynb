{
 "cells": [
  {
   "cell_type": "markdown",
   "metadata": {},
   "source": [
    "# PRAKTIKUM BIG DATA ANALYTICS - PERTEMUAN 4 (COLLECTING DATA)\n",
    "\n",
    "### TUJUAN:\n",
    "1. Mampu melakukan crawling/scraping data menggunakan twitterscraper"
   ]
  },
  {
   "cell_type": "markdown",
   "metadata": {},
   "source": [
    "# TUGAS"
   ]
  },
  {
   "cell_type": "markdown",
   "metadata": {},
   "source": [
    "## 1. Lakukan crawling data untuk keyword minyak goreng langka hanya untuk bulan Februari 2022"
   ]
  },
  {
   "cell_type": "markdown",
   "metadata": {},
   "source": [
    "Pertama-tama, kita lakukan git clone atas link https://github.com/twintproject/twint.git. Git clone adalah sebuah perintah yang digunakan untuk membuat salinan repository lokal. Lalu kita masuk ke direktori twint dengan perintah `%cd twint`. Kemudian kita lakukan penginstallan dengan perintah `!pip3 install . -r requirements.txt` (untuk menentukan package python yang diperlukan untuk menjalankan project) dan `!pip install aiohttp==3.7.0` (client/server HTTP untuk asyncio yang digunakan untuk menulis klien dan server asinkron)."
   ]
  },
  {
   "cell_type": "code",
   "execution_count": 4,
   "metadata": {
    "colab": {
     "base_uri": "https://localhost:8080/",
     "height": 1000
    },
    "executionInfo": {
     "elapsed": 21880,
     "status": "ok",
     "timestamp": 1647131504343,
     "user": {
      "displayName": "Raden Isnawan Argi Aryasatya",
      "photoUrl": "https://lh3.googleusercontent.com/a-/AOh14Ggoo0qfEAciKND-4YbCcdhOQdYRg70BZM2KmICv=s64",
      "userId": "13018649338432619327"
     },
     "user_tz": -420
    },
    "id": "R5Yfup5PqS_G",
    "outputId": "4eecb43d-8663-46fa-9597-b3b16741057c"
   },
   "outputs": [
    {
     "name": "stdout",
     "output_type": "stream",
     "text": [
      "Cloning into 'twint'...\n",
      "remote: Enumerating objects: 47, done.\u001b[K\n",
      "remote: Counting objects: 100% (47/47), done.\u001b[K\n",
      "remote: Compressing objects: 100% (44/44), done.\u001b[K\n",
      "remote: Total 47 (delta 3), reused 14 (delta 0), pack-reused 0\u001b[K\n",
      "Unpacking objects: 100% (47/47), done.\n",
      "/root/twint\n",
      "Processing /root/twint\n",
      "\u001b[33m  DEPRECATION: A future pip version will change local packages to be built in-place without first copying to a temporary directory. We recommend you use --use-feature=in-tree-build to test your packages with this new behavior before it becomes the default.\n",
      "   pip 21.3 will remove support for this functionality. You can find discussion regarding this at https://github.com/pypa/pip/issues/7555.\u001b[0m\n",
      "Collecting aiohttp\n",
      "  Downloading aiohttp-3.8.1-cp37-cp37m-manylinux_2_5_x86_64.manylinux1_x86_64.manylinux_2_12_x86_64.manylinux2010_x86_64.whl (1.1 MB)\n",
      "\u001b[K     |████████████████████████████████| 1.1 MB 4.9 MB/s \n",
      "\u001b[?25hCollecting aiodns\n",
      "  Downloading aiodns-3.0.0-py3-none-any.whl (5.0 kB)\n",
      "Requirement already satisfied: beautifulsoup4 in /usr/local/lib/python3.7/dist-packages (from -r requirements.txt (line 3)) (4.6.3)\n",
      "Collecting cchardet\n",
      "  Downloading cchardet-2.1.7-cp37-cp37m-manylinux2010_x86_64.whl (263 kB)\n",
      "\u001b[K     |████████████████████████████████| 263 kB 42.3 MB/s \n",
      "\u001b[?25hCollecting dataclasses\n",
      "  Downloading dataclasses-0.6-py3-none-any.whl (14 kB)\n",
      "Collecting elasticsearch\n",
      "  Downloading elasticsearch-8.1.0-py3-none-any.whl (373 kB)\n",
      "\u001b[K     |████████████████████████████████| 373 kB 41.7 MB/s \n",
      "\u001b[?25hRequirement already satisfied: pysocks in /usr/local/lib/python3.7/dist-packages (from -r requirements.txt (line 7)) (1.7.1)\n",
      "Requirement already satisfied: pandas>=0.23.0 in /usr/local/lib/python3.7/dist-packages (from -r requirements.txt (line 8)) (1.3.5)\n",
      "Collecting aiohttp_socks<=0.4.1\n",
      "  Downloading aiohttp_socks-0.4.1-py3-none-any.whl (17 kB)\n",
      "Collecting schedule\n",
      "  Downloading schedule-1.1.0-py2.py3-none-any.whl (10 kB)\n",
      "Requirement already satisfied: geopy in /usr/local/lib/python3.7/dist-packages (from -r requirements.txt (line 11)) (1.17.0)\n",
      "Collecting fake-useragent\n",
      "  Downloading fake-useragent-0.1.11.tar.gz (13 kB)\n",
      "Collecting googletransx\n",
      "  Downloading googletransx-2.4.2.tar.gz (13 kB)\n",
      "Requirement already satisfied: pytz>=2017.3 in /usr/local/lib/python3.7/dist-packages (from pandas>=0.23.0->-r requirements.txt (line 8)) (2018.9)\n",
      "Requirement already satisfied: numpy>=1.17.3 in /usr/local/lib/python3.7/dist-packages (from pandas>=0.23.0->-r requirements.txt (line 8)) (1.21.5)\n",
      "Requirement already satisfied: python-dateutil>=2.7.3 in /usr/local/lib/python3.7/dist-packages (from pandas>=0.23.0->-r requirements.txt (line 8)) (2.8.2)\n",
      "Requirement already satisfied: attrs>=19.2.0 in /usr/local/lib/python3.7/dist-packages (from aiohttp_socks<=0.4.1->-r requirements.txt (line 9)) (21.4.0)\n",
      "Requirement already satisfied: typing-extensions>=3.7.4 in /usr/local/lib/python3.7/dist-packages (from aiohttp->-r requirements.txt (line 1)) (3.10.0.2)\n",
      "Collecting frozenlist>=1.1.1\n",
      "  Downloading frozenlist-1.3.0-cp37-cp37m-manylinux_2_5_x86_64.manylinux1_x86_64.manylinux_2_17_x86_64.manylinux2014_x86_64.whl (144 kB)\n",
      "\u001b[K     |████████████████████████████████| 144 kB 46.1 MB/s \n",
      "\u001b[?25hRequirement already satisfied: charset-normalizer<3.0,>=2.0 in /usr/local/lib/python3.7/dist-packages (from aiohttp->-r requirements.txt (line 1)) (2.0.12)\n",
      "Collecting asynctest==0.13.0\n",
      "  Downloading asynctest-0.13.0-py3-none-any.whl (26 kB)\n",
      "Collecting multidict<7.0,>=4.5\n",
      "  Downloading multidict-6.0.2-cp37-cp37m-manylinux_2_17_x86_64.manylinux2014_x86_64.whl (94 kB)\n",
      "\u001b[K     |████████████████████████████████| 94 kB 2.9 MB/s \n",
      "\u001b[?25hCollecting yarl<2.0,>=1.0\n",
      "  Downloading yarl-1.7.2-cp37-cp37m-manylinux_2_5_x86_64.manylinux1_x86_64.manylinux_2_12_x86_64.manylinux2010_x86_64.whl (271 kB)\n",
      "\u001b[K     |████████████████████████████████| 271 kB 59.7 MB/s \n",
      "\u001b[?25hCollecting async-timeout<5.0,>=4.0.0a3\n",
      "  Downloading async_timeout-4.0.2-py3-none-any.whl (5.8 kB)\n",
      "Collecting aiosignal>=1.1.2\n",
      "  Downloading aiosignal-1.2.0-py3-none-any.whl (8.2 kB)\n",
      "Requirement already satisfied: six>=1.5 in /usr/local/lib/python3.7/dist-packages (from python-dateutil>=2.7.3->pandas>=0.23.0->-r requirements.txt (line 8)) (1.15.0)\n",
      "Requirement already satisfied: idna>=2.0 in /usr/local/lib/python3.7/dist-packages (from yarl<2.0,>=1.0->aiohttp->-r requirements.txt (line 1)) (2.10)\n",
      "Collecting pycares>=4.0.0\n",
      "  Downloading pycares-4.1.2-cp37-cp37m-manylinux_2_5_x86_64.manylinux1_x86_64.manylinux_2_12_x86_64.manylinux2010_x86_64.whl (291 kB)\n",
      "\u001b[K     |████████████████████████████████| 291 kB 54.3 MB/s \n",
      "\u001b[?25hRequirement already satisfied: cffi>=1.5.0 in /usr/local/lib/python3.7/dist-packages (from pycares>=4.0.0->aiodns->-r requirements.txt (line 2)) (1.15.0)\n",
      "Requirement already satisfied: pycparser in /usr/local/lib/python3.7/dist-packages (from cffi>=1.5.0->pycares>=4.0.0->aiodns->-r requirements.txt (line 2)) (2.21)\n",
      "Collecting elastic-transport<9,>=8\n",
      "  Downloading elastic_transport-8.1.0-py3-none-any.whl (58 kB)\n",
      "\u001b[K     |████████████████████████████████| 58 kB 3.9 MB/s \n",
      "\u001b[?25hCollecting urllib3<2,>=1.26.2\n",
      "  Downloading urllib3-1.26.8-py2.py3-none-any.whl (138 kB)\n",
      "\u001b[K     |████████████████████████████████| 138 kB 58.5 MB/s \n",
      "\u001b[?25hRequirement already satisfied: certifi in /usr/local/lib/python3.7/dist-packages (from elastic-transport<9,>=8->elasticsearch->-r requirements.txt (line 6)) (2021.10.8)\n",
      "Requirement already satisfied: geographiclib<2,>=1.49 in /usr/local/lib/python3.7/dist-packages (from geopy->-r requirements.txt (line 11)) (1.52)\n",
      "Requirement already satisfied: requests in /usr/local/lib/python3.7/dist-packages (from googletransx->-r requirements.txt (line 13)) (2.23.0)\n",
      "Requirement already satisfied: chardet<4,>=3.0.2 in /usr/local/lib/python3.7/dist-packages (from requests->googletransx->-r requirements.txt (line 13)) (3.0.4)\n",
      "Collecting requests\n",
      "  Downloading requests-2.27.1-py2.py3-none-any.whl (63 kB)\n",
      "\u001b[K     |████████████████████████████████| 63 kB 1.4 MB/s \n",
      "\u001b[?25hBuilding wheels for collected packages: twint, fake-useragent, googletransx\n",
      "  Building wheel for twint (setup.py) ... \u001b[?25l\u001b[?25hdone\n",
      "  Created wheel for twint: filename=twint-2.1.21-py3-none-any.whl size=38871 sha256=73b79c656d1100acf6a897cd70c9ad00cdc5a004912ac94968b53174ae23ca72\n",
      "  Stored in directory: /tmp/pip-ephem-wheel-cache-11clt4vs/wheels/b3/e9/29/5fb6f6b47b8962586152c965d8e99282ce5646ab68f80e5af4\n",
      "  Building wheel for fake-useragent (setup.py) ... \u001b[?25l\u001b[?25hdone\n",
      "  Created wheel for fake-useragent: filename=fake_useragent-0.1.11-py3-none-any.whl size=13502 sha256=2e218c2e2db92d6374dd19b942517e181b8b427113f9ca163e8aa4450040526b\n",
      "  Stored in directory: /root/.cache/pip/wheels/ed/f7/62/50ab6c9a0b5567267ab76a9daa9d06315704209b2c5d032031\n",
      "  Building wheel for googletransx (setup.py) ... \u001b[?25l\u001b[?25hdone\n",
      "  Created wheel for googletransx: filename=googletransx-2.4.2-py3-none-any.whl size=15968 sha256=bb20041af55f06c28cd4e1af7e6570eee689ae1340c4654555a67ed2c8bed1a6\n",
      "  Stored in directory: /root/.cache/pip/wheels/66/d5/b1/31104b338f7fd45aa8f7d22587765db06773b13df48a89735f\n",
      "Successfully built twint fake-useragent googletransx\n",
      "Installing collected packages: multidict, frozenlist, yarl, urllib3, asynctest, async-timeout, aiosignal, requests, pycares, elastic-transport, aiohttp, schedule, googletransx, fake-useragent, elasticsearch, dataclasses, cchardet, aiohttp-socks, aiodns, twint\n",
      "  Attempting uninstall: urllib3\n",
      "    Found existing installation: urllib3 1.24.3\n",
      "    Uninstalling urllib3-1.24.3:\n",
      "      Successfully uninstalled urllib3-1.24.3\n",
      "  Attempting uninstall: requests\n",
      "    Found existing installation: requests 2.23.0\n",
      "    Uninstalling requests-2.23.0:\n",
      "      Successfully uninstalled requests-2.23.0\n",
      "\u001b[31mERROR: pip's dependency resolver does not currently take into account all the packages that are installed. This behaviour is the source of the following dependency conflicts.\n",
      "google-colab 1.0.0 requires requests~=2.23.0, but you have requests 2.27.1 which is incompatible.\n",
      "datascience 0.10.6 requires folium==0.2.1, but you have folium 0.8.3 which is incompatible.\u001b[0m\n",
      "Successfully installed aiodns-3.0.0 aiohttp-3.8.1 aiohttp-socks-0.4.1 aiosignal-1.2.0 async-timeout-4.0.2 asynctest-0.13.0 cchardet-2.1.7 dataclasses-0.6 elastic-transport-8.1.0 elasticsearch-8.1.0 fake-useragent-0.1.11 frozenlist-1.3.0 googletransx-2.4.2 multidict-6.0.2 pycares-4.1.2 requests-2.27.1 schedule-1.1.0 twint-2.1.21 urllib3-1.26.8 yarl-1.7.2\n"
     ]
    },
    {
     "data": {
      "application/vnd.colab-display-data+json": {
       "pip_warning": {
        "packages": [
         "dataclasses",
         "requests",
         "urllib3"
        ]
       }
      }
     },
     "metadata": {},
     "output_type": "display_data"
    },
    {
     "name": "stdout",
     "output_type": "stream",
     "text": [
      "Collecting aiohttp==3.7.0\n",
      "  Downloading aiohttp-3.7.0-cp37-cp37m-manylinux2014_x86_64.whl (1.3 MB)\n",
      "\u001b[?25l\r",
      "\u001b[K     |▎                               | 10 kB 19.7 MB/s eta 0:00:01\r",
      "\u001b[K     |▌                               | 20 kB 11.3 MB/s eta 0:00:01\r",
      "\u001b[K     |▊                               | 30 kB 8.8 MB/s eta 0:00:01\r",
      "\u001b[K     |█                               | 40 kB 7.9 MB/s eta 0:00:01\r",
      "\u001b[K     |█▎                              | 51 kB 4.4 MB/s eta 0:00:01\r",
      "\u001b[K     |█▌                              | 61 kB 5.2 MB/s eta 0:00:01\r",
      "\u001b[K     |█▊                              | 71 kB 5.5 MB/s eta 0:00:01\r",
      "\u001b[K     |██                              | 81 kB 5.7 MB/s eta 0:00:01\r",
      "\u001b[K     |██▏                             | 92 kB 6.3 MB/s eta 0:00:01\r",
      "\u001b[K     |██▌                             | 102 kB 5.4 MB/s eta 0:00:01\r",
      "\u001b[K     |██▊                             | 112 kB 5.4 MB/s eta 0:00:01\r",
      "\u001b[K     |███                             | 122 kB 5.4 MB/s eta 0:00:01\r",
      "\u001b[K     |███▏                            | 133 kB 5.4 MB/s eta 0:00:01\r",
      "\u001b[K     |███▌                            | 143 kB 5.4 MB/s eta 0:00:01\r",
      "\u001b[K     |███▊                            | 153 kB 5.4 MB/s eta 0:00:01\r",
      "\u001b[K     |████                            | 163 kB 5.4 MB/s eta 0:00:01\r",
      "\u001b[K     |████▏                           | 174 kB 5.4 MB/s eta 0:00:01\r",
      "\u001b[K     |████▍                           | 184 kB 5.4 MB/s eta 0:00:01\r",
      "\u001b[K     |████▊                           | 194 kB 5.4 MB/s eta 0:00:01\r",
      "\u001b[K     |█████                           | 204 kB 5.4 MB/s eta 0:00:01\r",
      "\u001b[K     |█████▏                          | 215 kB 5.4 MB/s eta 0:00:01\r",
      "\u001b[K     |█████▍                          | 225 kB 5.4 MB/s eta 0:00:01\r",
      "\u001b[K     |█████▋                          | 235 kB 5.4 MB/s eta 0:00:01\r",
      "\u001b[K     |██████                          | 245 kB 5.4 MB/s eta 0:00:01\r",
      "\u001b[K     |██████▏                         | 256 kB 5.4 MB/s eta 0:00:01\r",
      "\u001b[K     |██████▍                         | 266 kB 5.4 MB/s eta 0:00:01\r",
      "\u001b[K     |██████▋                         | 276 kB 5.4 MB/s eta 0:00:01\r",
      "\u001b[K     |███████                         | 286 kB 5.4 MB/s eta 0:00:01\r",
      "\u001b[K     |███████▏                        | 296 kB 5.4 MB/s eta 0:00:01\r",
      "\u001b[K     |███████▍                        | 307 kB 5.4 MB/s eta 0:00:01\r",
      "\u001b[K     |███████▋                        | 317 kB 5.4 MB/s eta 0:00:01\r",
      "\u001b[K     |███████▉                        | 327 kB 5.4 MB/s eta 0:00:01\r",
      "\u001b[K     |████████▏                       | 337 kB 5.4 MB/s eta 0:00:01\r",
      "\u001b[K     |████████▍                       | 348 kB 5.4 MB/s eta 0:00:01\r",
      "\u001b[K     |████████▋                       | 358 kB 5.4 MB/s eta 0:00:01\r",
      "\u001b[K     |████████▉                       | 368 kB 5.4 MB/s eta 0:00:01\r",
      "\u001b[K     |█████████                       | 378 kB 5.4 MB/s eta 0:00:01\r",
      "\u001b[K     |█████████▍                      | 389 kB 5.4 MB/s eta 0:00:01\r",
      "\u001b[K     |█████████▋                      | 399 kB 5.4 MB/s eta 0:00:01\r",
      "\u001b[K     |█████████▉                      | 409 kB 5.4 MB/s eta 0:00:01\r",
      "\u001b[K     |██████████                      | 419 kB 5.4 MB/s eta 0:00:01\r",
      "\u001b[K     |██████████▍                     | 430 kB 5.4 MB/s eta 0:00:01\r",
      "\u001b[K     |██████████▋                     | 440 kB 5.4 MB/s eta 0:00:01\r",
      "\u001b[K     |██████████▉                     | 450 kB 5.4 MB/s eta 0:00:01\r",
      "\u001b[K     |███████████                     | 460 kB 5.4 MB/s eta 0:00:01\r",
      "\u001b[K     |███████████▎                    | 471 kB 5.4 MB/s eta 0:00:01\r",
      "\u001b[K     |███████████▋                    | 481 kB 5.4 MB/s eta 0:00:01\r",
      "\u001b[K     |███████████▉                    | 491 kB 5.4 MB/s eta 0:00:01\r",
      "\u001b[K     |████████████                    | 501 kB 5.4 MB/s eta 0:00:01\r",
      "\u001b[K     |████████████▎                   | 512 kB 5.4 MB/s eta 0:00:01\r",
      "\u001b[K     |████████████▌                   | 522 kB 5.4 MB/s eta 0:00:01\r",
      "\u001b[K     |████████████▉                   | 532 kB 5.4 MB/s eta 0:00:01\r",
      "\u001b[K     |█████████████                   | 542 kB 5.4 MB/s eta 0:00:01\r",
      "\u001b[K     |█████████████▎                  | 552 kB 5.4 MB/s eta 0:00:01\r",
      "\u001b[K     |█████████████▌                  | 563 kB 5.4 MB/s eta 0:00:01\r",
      "\u001b[K     |█████████████▉                  | 573 kB 5.4 MB/s eta 0:00:01\r",
      "\u001b[K     |██████████████                  | 583 kB 5.4 MB/s eta 0:00:01\r",
      "\u001b[K     |██████████████▎                 | 593 kB 5.4 MB/s eta 0:00:01\r",
      "\u001b[K     |██████████████▌                 | 604 kB 5.4 MB/s eta 0:00:01\r",
      "\u001b[K     |██████████████▊                 | 614 kB 5.4 MB/s eta 0:00:01\r",
      "\u001b[K     |███████████████                 | 624 kB 5.4 MB/s eta 0:00:01\r",
      "\u001b[K     |███████████████▎                | 634 kB 5.4 MB/s eta 0:00:01\r",
      "\u001b[K     |███████████████▌                | 645 kB 5.4 MB/s eta 0:00:01\r",
      "\u001b[K     |███████████████▊                | 655 kB 5.4 MB/s eta 0:00:01\r",
      "\u001b[K     |████████████████                | 665 kB 5.4 MB/s eta 0:00:01\r",
      "\u001b[K     |████████████████▎               | 675 kB 5.4 MB/s eta 0:00:01\r",
      "\u001b[K     |████████████████▌               | 686 kB 5.4 MB/s eta 0:00:01\r",
      "\u001b[K     |████████████████▊               | 696 kB 5.4 MB/s eta 0:00:01\r",
      "\u001b[K     |█████████████████               | 706 kB 5.4 MB/s eta 0:00:01\r",
      "\u001b[K     |█████████████████▎              | 716 kB 5.4 MB/s eta 0:00:01\r",
      "\u001b[K     |█████████████████▌              | 727 kB 5.4 MB/s eta 0:00:01\r",
      "\u001b[K     |█████████████████▊              | 737 kB 5.4 MB/s eta 0:00:01\r",
      "\u001b[K     |██████████████████              | 747 kB 5.4 MB/s eta 0:00:01\r",
      "\u001b[K     |██████████████████▏             | 757 kB 5.4 MB/s eta 0:00:01\r",
      "\u001b[K     |██████████████████▌             | 768 kB 5.4 MB/s eta 0:00:01\r",
      "\u001b[K     |██████████████████▊             | 778 kB 5.4 MB/s eta 0:00:01\r",
      "\u001b[K     |███████████████████             | 788 kB 5.4 MB/s eta 0:00:01\r",
      "\u001b[K     |███████████████████▏            | 798 kB 5.4 MB/s eta 0:00:01\r",
      "\u001b[K     |███████████████████▍            | 808 kB 5.4 MB/s eta 0:00:01\r",
      "\u001b[K     |███████████████████▊            | 819 kB 5.4 MB/s eta 0:00:01\r",
      "\u001b[K     |████████████████████            | 829 kB 5.4 MB/s eta 0:00:01\r",
      "\u001b[K     |████████████████████▏           | 839 kB 5.4 MB/s eta 0:00:01\r",
      "\u001b[K     |████████████████████▍           | 849 kB 5.4 MB/s eta 0:00:01\r",
      "\u001b[K     |████████████████████▊           | 860 kB 5.4 MB/s eta 0:00:01\r",
      "\u001b[K     |█████████████████████           | 870 kB 5.4 MB/s eta 0:00:01\r",
      "\u001b[K     |█████████████████████▏          | 880 kB 5.4 MB/s eta 0:00:01\r",
      "\u001b[K     |█████████████████████▍          | 890 kB 5.4 MB/s eta 0:00:01\r",
      "\u001b[K     |█████████████████████▋          | 901 kB 5.4 MB/s eta 0:00:01\r",
      "\u001b[K     |██████████████████████          | 911 kB 5.4 MB/s eta 0:00:01\r",
      "\u001b[K     |██████████████████████▏         | 921 kB 5.4 MB/s eta 0:00:01\r",
      "\u001b[K     |██████████████████████▍         | 931 kB 5.4 MB/s eta 0:00:01\r",
      "\u001b[K     |██████████████████████▋         | 942 kB 5.4 MB/s eta 0:00:01\r",
      "\u001b[K     |██████████████████████▉         | 952 kB 5.4 MB/s eta 0:00:01\r",
      "\u001b[K     |███████████████████████▏        | 962 kB 5.4 MB/s eta 0:00:01\r",
      "\u001b[K     |███████████████████████▍        | 972 kB 5.4 MB/s eta 0:00:01\r",
      "\u001b[K     |███████████████████████▋        | 983 kB 5.4 MB/s eta 0:00:01\r",
      "\u001b[K     |███████████████████████▉        | 993 kB 5.4 MB/s eta 0:00:01\r",
      "\u001b[K     |████████████████████████▏       | 1.0 MB 5.4 MB/s eta 0:00:01\r",
      "\u001b[K     |████████████████████████▍       | 1.0 MB 5.4 MB/s eta 0:00:01\r",
      "\u001b[K     |████████████████████████▋       | 1.0 MB 5.4 MB/s eta 0:00:01\r",
      "\u001b[K     |████████████████████████▉       | 1.0 MB 5.4 MB/s eta 0:00:01\r",
      "\u001b[K     |█████████████████████████       | 1.0 MB 5.4 MB/s eta 0:00:01\r",
      "\u001b[K     |█████████████████████████▍      | 1.1 MB 5.4 MB/s eta 0:00:01\r",
      "\u001b[K     |█████████████████████████▋      | 1.1 MB 5.4 MB/s eta 0:00:01\r",
      "\u001b[K     |█████████████████████████▉      | 1.1 MB 5.4 MB/s eta 0:00:01\r",
      "\u001b[K     |██████████████████████████      | 1.1 MB 5.4 MB/s eta 0:00:01\r",
      "\u001b[K     |██████████████████████████▎     | 1.1 MB 5.4 MB/s eta 0:00:01\r",
      "\u001b[K     |██████████████████████████▋     | 1.1 MB 5.4 MB/s eta 0:00:01\r",
      "\u001b[K     |██████████████████████████▉     | 1.1 MB 5.4 MB/s eta 0:00:01\r",
      "\u001b[K     |███████████████████████████     | 1.1 MB 5.4 MB/s eta 0:00:01\r",
      "\u001b[K     |███████████████████████████▎    | 1.1 MB 5.4 MB/s eta 0:00:01\r",
      "\u001b[K     |███████████████████████████▋    | 1.1 MB 5.4 MB/s eta 0:00:01\r",
      "\u001b[K     |███████████████████████████▉    | 1.2 MB 5.4 MB/s eta 0:00:01\r",
      "\u001b[K     |████████████████████████████    | 1.2 MB 5.4 MB/s eta 0:00:01\r",
      "\u001b[K     |████████████████████████████▎   | 1.2 MB 5.4 MB/s eta 0:00:01\r",
      "\u001b[K     |████████████████████████████▌   | 1.2 MB 5.4 MB/s eta 0:00:01\r",
      "\u001b[K     |████████████████████████████▉   | 1.2 MB 5.4 MB/s eta 0:00:01\r",
      "\u001b[K     |█████████████████████████████   | 1.2 MB 5.4 MB/s eta 0:00:01\r",
      "\u001b[K     |█████████████████████████████▎  | 1.2 MB 5.4 MB/s eta 0:00:01\r",
      "\u001b[K     |█████████████████████████████▌  | 1.2 MB 5.4 MB/s eta 0:00:01\r",
      "\u001b[K     |█████████████████████████████▊  | 1.2 MB 5.4 MB/s eta 0:00:01\r",
      "\u001b[K     |██████████████████████████████  | 1.2 MB 5.4 MB/s eta 0:00:01\r",
      "\u001b[K     |██████████████████████████████▎ | 1.3 MB 5.4 MB/s eta 0:00:01\r",
      "\u001b[K     |██████████████████████████████▌ | 1.3 MB 5.4 MB/s eta 0:00:01\r",
      "\u001b[K     |██████████████████████████████▊ | 1.3 MB 5.4 MB/s eta 0:00:01\r",
      "\u001b[K     |███████████████████████████████ | 1.3 MB 5.4 MB/s eta 0:00:01\r",
      "\u001b[K     |███████████████████████████████▎| 1.3 MB 5.4 MB/s eta 0:00:01\r",
      "\u001b[K     |███████████████████████████████▌| 1.3 MB 5.4 MB/s eta 0:00:01\r",
      "\u001b[K     |███████████████████████████████▊| 1.3 MB 5.4 MB/s eta 0:00:01\r",
      "\u001b[K     |████████████████████████████████| 1.3 MB 5.4 MB/s eta 0:00:01\r",
      "\u001b[K     |████████████████████████████████| 1.3 MB 5.4 MB/s \n",
      "\u001b[?25hRequirement already satisfied: multidict<7.0,>=4.5 in /usr/local/lib/python3.7/dist-packages (from aiohttp==3.7.0) (6.0.2)\n",
      "Requirement already satisfied: chardet<4.0,>=2.0 in /usr/local/lib/python3.7/dist-packages (from aiohttp==3.7.0) (3.0.4)\n",
      "Collecting async-timeout<4.0,>=3.0\n",
      "  Downloading async_timeout-3.0.1-py3-none-any.whl (8.2 kB)\n",
      "Requirement already satisfied: attrs>=17.3.0 in /usr/local/lib/python3.7/dist-packages (from aiohttp==3.7.0) (21.4.0)\n",
      "Requirement already satisfied: yarl<2.0,>=1.0 in /usr/local/lib/python3.7/dist-packages (from aiohttp==3.7.0) (1.7.2)\n",
      "Requirement already satisfied: idna>=2.0 in /usr/local/lib/python3.7/dist-packages (from yarl<2.0,>=1.0->aiohttp==3.7.0) (2.10)\n",
      "Requirement already satisfied: typing-extensions>=3.7.4 in /usr/local/lib/python3.7/dist-packages (from yarl<2.0,>=1.0->aiohttp==3.7.0) (3.10.0.2)\n",
      "Installing collected packages: async-timeout, aiohttp\n",
      "  Attempting uninstall: async-timeout\n",
      "    Found existing installation: async-timeout 4.0.2\n",
      "    Uninstalling async-timeout-4.0.2:\n",
      "      Successfully uninstalled async-timeout-4.0.2\n",
      "  Attempting uninstall: aiohttp\n",
      "    Found existing installation: aiohttp 3.8.1\n",
      "    Uninstalling aiohttp-3.8.1:\n",
      "      Successfully uninstalled aiohttp-3.8.1\n",
      "Successfully installed aiohttp-3.7.0 async-timeout-3.0.1\n"
     ]
    }
   ],
   "source": [
    "!git clone --depth=1 https://github.com/twintproject/twint.git\n",
    "%cd twint\n",
    "!pip3 install . -r requirements.txt\n",
    "!pip install aiohttp==3.7.0"
   ]
  },
  {
   "cell_type": "markdown",
   "metadata": {},
   "source": [
    "Buat konfigurasi seperti ini:"
   ]
  },
  {
   "cell_type": "code",
   "execution_count": 42,
   "metadata": {
    "colab": {
     "base_uri": "https://localhost:8080/"
    },
    "executionInfo": {
     "elapsed": 1307,
     "status": "ok",
     "timestamp": 1647141583812,
     "user": {
      "displayName": "Raden Isnawan Argi Aryasatya",
      "photoUrl": "https://lh3.googleusercontent.com/a-/AOh14Ggoo0qfEAciKND-4YbCcdhOQdYRg70BZM2KmICv=s64",
      "userId": "13018649338432619327"
     },
     "user_tz": -420
    },
    "id": "yHRSjeVZs4NI",
    "outputId": "f37d7732-19c5-4c22-b427-784760221205"
   },
   "outputs": [
    {
     "name": "stdout",
     "output_type": "stream",
     "text": [
      "2022-02-01 00:00:00\n",
      "2022-03-01 00:00:00\n",
      "1498443215732875264 2022-02-28 23:41:17 +0000 <hsndin> @republikaonline Goreng goreng... Republika jual gorengan saat minyak langka....\n",
      "1498443151413248000 2022-02-28 23:41:01 +0000 <barryallen_1st> @selebcuit Lalu obrolan berlanjut ke minyak goreng dan tempe yg langka.🤣\n",
      "1498441070803550208 2022-02-28 23:32:45 +0000 <FPKSDPRRI> Minyak Goreng Langka, Pemerintah Harus JAMIN Stok Pangan  https://t.co/fRVkcYjcU3 lewat @YouTube\n",
      "1498440063914766337 2022-02-28 23:28:45 +0000 <toekoel69> @kopipait72 @persebayaupdate Itu kan sebelum minyak goreng langka\n",
      "1498438686341435393 2022-02-28 23:23:17 +0000 <Hermans_cepoe> @ronavioleta @jokowi Semua salah presiden, apa presiden bekerja sendirian ? Urusan minyak goreng langka yg disalahkan tetep presiden ? Miris\n",
      "1498438603395198977 2022-02-28 23:22:57 +0000 <yanni_kawaii> Gas non subsidi naik bersamaan dgn kenaikan harga gula dan daging, konon minyak goreng  sudah berbulan-bulan masih langka\n",
      "1498438178063060996 2022-02-28 23:21:15 +0000 <Ikhsanu_1977> @pakmul63 Sy pilih tunda keduanya karna kedua kebijakan itu cuman menambah derita rakyat dimana semua langka serba susah susah dapat pupuk,BBM solar,minyak goreng, gula pasir di tamba harga semua meroket\n",
      "1498436491374370816 2022-02-28 23:14:33 +0000 <bang_nuno> Minyak goreng langka tu karena salah netizen jugak... udah tau survey kepuasan 70% kok masih kebanyakan buat goreng kasus yg mengancam para elite 🤣  https://t.co/HfW2dGS6sZ\n",
      "1498435012999651328 2022-02-28 23:08:41 +0000 <kunanti_kunti> Minyak goreng lagi langka Tapi pemkab ngadain ‘tebus murah’ dan minyak goreng tersedia  Loh loh loh piye jan\n",
      "1498432271988441089 2022-02-28 22:57:47 +0000 <PutraErlangga95> @utunSikumbang Bagus... bagus... Tapi Minyak Goreng Langka 😏\n",
      "1498428994579886085 2022-02-28 22:44:46 +0000 <Jojobacoba> @geloraco Giliran untuk masa jabatan mereka mereka sibuk. Giliran minyak goreng langka, BPJS dan masalah lain mereka diam. LOL\n",
      "1498425693876940801 2022-02-28 22:31:39 +0000 <Datuak_Sipasan> @Markonah_003 @Gojekmilitan Dari Barat ke Timur Sampai Rusia ke Ukraina dan nongol di sekjen PBB.  Minyak goreng tetap aja langka, beras, daging LPG mahal. masalah ini hrs cepat diatasi dan gak bisa ditunda tunda.\n",
      "1498422726511706112 2022-02-28 22:19:52 +0000 <arifluqmanngaji> Minyak goreng langka\n",
      "1498422192631316481 2022-02-28 22:17:44 +0000 <sohee_sae_22> Minyak goreng masih langka kenapa masyarakat sama pemerintah masih bungkam ya ? #minyakgoreng\n",
      "1498419878600278017 2022-02-28 22:08:33 +0000 <oktiwul> Kemarin nyari minyak goreng dan terpantau masih langka. Padahal buat masak sehari-hari doang di rumah. Gimana yang dagang yak 😶\n",
      "1498411972559503360 2022-02-28 21:37:08 +0000 <Velope16> Perang baru ja kemarin mulai..minyak goreng dah dua bulan yg lalu langka dan mahal Bos...DAH JADI MENTRI KO MASIH SOMPLAK OTAK LOE...\n",
      "1498411716522098690 2022-02-28 21:36:07 +0000 <djacob1101> @detikcom @detikcom  ah lu min .. berita kya gitu lu telen mentah2...!!! Lu share lagi .. hadeeuuhhh... Lu pro Eropa ya min..?? Sma aja lu kya media propaganda AS... Yg real di umpetin, malah bikin berita hoax kmna2.... Udah min beritain minyak goreng aja, knp bisa langka..!!\n",
      "1498408232569561095 2022-02-28 21:22:16 +0000 <tukanggendang5> @andri_3y @msaid_didu Monggo mas seumur hidup juga selamat menikmati minyak goreng langka di negara yg punya kebun sawit luas\n",
      "1498399575182569473 2022-02-28 20:47:52 +0000 <NamungAbdiGusti> @MprAldo beh misteri minyak goreng langka terjawab sudah...  Ga ada urusannya fucksin c19 ama kesehatan...\n",
      "1498394344113332232 2022-02-28 20:27:05 +0000 <Reza0398_> Bukan saatnya memikirkan langkah untuk isu-isu yg beredar, karena masih sibuk memikirkan Toa,minyak goreng langka dan harus minum paracetamol 3 x sehari.\n",
      "1498386886737690624 2022-02-28 19:57:27 +0000 <shutthefvckvp_> Rambutku dikasih hairmask malah minyakan. Berhubung minyak lagi langka, sepertinya lebih baik kuperas lalu kupake buat goreng nugget\n",
      "1498376501854552064 2022-02-28 19:16:11 +0000 <kompasiana> Minyak Goreng Langka, Energi Dahulu Perut Kemudian  https://t.co/4nsDGRpJGH #HLKompasiana\n",
      "1498373887620304898 2022-02-28 19:05:47 +0000 <kafir_grs_lurus> @papa_loren minyak goreng langka lucu, hambalang mangkrak ga lucu ya?\n",
      "1498354184034213888 2022-02-28 17:47:30 +0000 <karawang_online> Rahma Azhari Ogah Pulang ke Indonesia Kalau Minyak Goreng Masih Langka  https://t.co/TArpU3OGUX\n",
      "1498354181484474368 2022-02-28 17:47:29 +0000 <adji1213> @Kiyai_MarufAmin Pk Yai minyak goreng masi langka,, kayak minyak goreng abis di minum ama anjingny pk Yaqut\n",
      "1498352758616838146 2022-02-28 17:41:50 +0000 <nurrazif> @BaonAndre @ar029 @fullmoonfolks Kalo kelola baik mah gada itu minyak goreng langka, dan lainya wkwk\n",
      "1498351592919031811 2022-02-28 17:37:12 +0000 <alisukri2000> Ombudsman Pertanyakan Minyak Goreng Langka, Padahal Ekspor CPO Dibatasi  https://t.co/YmdZ3qu6E4  https://t.co/oN3CRMsngP\n",
      "1498351592080171008 2022-02-28 17:37:12 +0000 <andi_douzer> Ombudsman Pertanyakan Minyak Goreng Langka, Padahal Ekspor CPO Dibatasi  https://t.co/IWnre1bWTE  https://t.co/mWP1onbz6o\n",
      "1498351591769841664 2022-02-28 17:37:12 +0000 <Mutiara_alya80> Ombudsman Pertanyakan Minyak Goreng Langka, Padahal Ekspor CPO Dibatasi  https://t.co/a6ZZPVYiZ6  https://t.co/5ICEQCb56z\n",
      "1498351591476248580 2022-02-28 17:37:12 +0000 <Pekanbarutuah> Ombudsman Pertanyakan Minyak Goreng Langka, Padahal Ekspor CPO Dibatasi  https://t.co/dnViFe7ayJ  https://t.co/dAHUcmQI2d\n",
      "1498348532914212866 2022-02-28 17:25:02 +0000 <nguyen_engh> @__AnakKolong @RahmayadiEdy Dan kepada tuan @budimandjatmiko kayanya masalah yg menyita perhatian anda itu hanya hal2 negatif tntang islam begini ya. Smentara minyak goreng langka, daging sapi naik, kedele naik , gas naik ga ada di singgung2. Keknya yg strategis cuma issue agama doang.\n",
      "1498346288785784832 2022-02-28 17:16:07 +0000 <Koendi2> @Yusrilihza_Mhd emang sengaja buat pernyataan kontroversial, biar masyarakat lupa kalau minyak goreng langka 😆\n",
      "1498344937955364866 2022-02-28 17:10:45 +0000 <Hakiki_rafhan> @KompasTV Pantas minyak goreng langka dan mahal, gak di urus sih...!!!😀\n",
      "1498344824126459904 2022-02-28 17:10:18 +0000 <Mahesa_Murti> Bicara level dunia tentang kelangkaan pangan... Di negerinya minyak goreng langka, kedelai mahal, harga daging membumbung tinggi, duniapun diam-diam mentertawakan....  Sedih membaca cuitannya...\n",
      "1498343459618394115 2022-02-28 17:04:53 +0000 <adham_dam06> 3 tahun covid melanda Dan dari 3 tahun itu kelangkaan kebutuhan berbeda-beda 2020 yang langka you c 1000 2021 yang langka susu beruang 2022 yang langka minyak goreng Jika tahun depan covid masih merajalela Kemungkinan yg akan langka itu ROKOK. Doa para ibu2 yg suaminya merokok.\n",
      "1498340605222866944 2022-02-28 16:53:32 +0000 <fielviraa> Minyak goreng langka kenapa dahh ?? 🤔\n",
      "1498334640754814976 2022-02-28 16:29:50 +0000 <Buaya_Sumur> @WiraLod13013398 Susah mikir  Klo orang hidup susah pasti bicara minyak goreng langka.   Udah deh lo susa teriak teriak minyak kan\n",
      "1498333631768854528 2022-02-28 16:25:50 +0000 <machbeach> Harga BBM ,elpiji 2 x, daging , kedelai, naik minyak goreng langka .. dampak kartel China menguasai tata niaga harga .. rakyat dijadikan sapi perahan  dipaksa BPJS #buzzerRp90 didanai rakyat untuk provokasi melemahkan rakyat , kartel China dengan tenang merampok rakyat  https://t.co/uA0vwSP4qZ\n",
      "1498333488864399363 2022-02-28 16:25:16 +0000 <Syafaruddinzein> Nikmati sajalah hidupmu selagi masih berada di lingkaran kekuasaan🤔 Minyak goreng langka, jgn terlalu banyak makan gorengan...\n",
      "[!] No more data! Scraping will stop now.\n",
      "found 0 deleted tweets in this search.\n"
     ]
    }
   ],
   "source": [
    "import nest_asyncio\n",
    "nest_asyncio.apply()\n",
    "import twint #untuk import twint\n",
    "import datetime\n",
    "since = datetime.datetime(2022, 2, 1)\n",
    "until = datetime.datetime(2022, 3, 1)\n",
    "print(since)\n",
    "print(until)\n",
    "\n",
    "c = twint.Config()\n",
    "c.Search = 'minyak goreng langka'\n",
    "c.Since = str(since) \n",
    "c.Until = str(until) \n",
    "c.Pandas = True\n",
    "twint.run.Search(c)"
   ]
  },
  {
   "cell_type": "markdown",
   "metadata": {},
   "source": [
    "Modul _datetime_ pada Python digunakan untuk bekerja dengan tanggal dan waktu spesifik. Pada kode di atas, kita import _datetime_ kemudian kita deklarasikan dua variabel bernama since dan until. Variabel `since` memiliki value tanggal mulai _scraping_ (1 Februari 2022 jam 00:00:00), variabel `until` memiliki _value_ tanggal selesai scraping (1 Maret 2022 jam 00:00:00). Setelah itu, di dalam baris kode `config`, kita masukkan kata kunci `‘minyak goreng langka’` pada baris `Search`. Lalu pada `Since` kita masukkan _value_ dari variabel `since` yang sudah kita buat tadi dengan tipe data string yaitu `str(since)`, pada `Until` kita masukkan dari variabel until yang sudah kita buat tadi dengan tipe data _string_ yaitu `str(until)`."
   ]
  },
  {
   "cell_type": "markdown",
   "metadata": {},
   "source": [
    "Kita lakukan mount untuk integrasi google colab dan google drive:"
   ]
  },
  {
   "cell_type": "code",
   "execution_count": 43,
   "metadata": {
    "colab": {
     "base_uri": "https://localhost:8080/"
    },
    "executionInfo": {
     "elapsed": 3213,
     "status": "ok",
     "timestamp": 1647142543132,
     "user": {
      "displayName": "Raden Isnawan Argi Aryasatya",
      "photoUrl": "https://lh3.googleusercontent.com/a-/AOh14Ggoo0qfEAciKND-4YbCcdhOQdYRg70BZM2KmICv=s64",
      "userId": "13018649338432619327"
     },
     "user_tz": -420
    },
    "id": "ci1ysjFot1Vt",
    "outputId": "30453724-6fba-4b49-95dd-4382f82dd62a"
   },
   "outputs": [
    {
     "name": "stdout",
     "output_type": "stream",
     "text": [
      "Drive already mounted at /content/drive; to attempt to forcibly remount, call drive.mount(\"/content/drive\", force_remount=True).\n"
     ]
    }
   ],
   "source": [
    "import pandas as pd\n",
    "from google.colab import drive\n",
    "drive.mount('/content/drive')"
   ]
  },
  {
   "cell_type": "markdown",
   "metadata": {},
   "source": [
    "Terakhir, kita import data ke dataframe dan buat csv:"
   ]
  },
  {
   "cell_type": "code",
   "execution_count": 44,
   "metadata": {
    "executionInfo": {
     "elapsed": 391,
     "status": "ok",
     "timestamp": 1647142547155,
     "user": {
      "displayName": "Raden Isnawan Argi Aryasatya",
      "photoUrl": "https://lh3.googleusercontent.com/a-/AOh14Ggoo0qfEAciKND-4YbCcdhOQdYRg70BZM2KmICv=s64",
      "userId": "13018649338432619327"
     },
     "user_tz": -420
    },
    "id": "SXfhbfBL2GpI"
   },
   "outputs": [],
   "source": [
    "Tweets_df = twint.storage.panda.Tweets_df\n",
    "Tweets_df.head()\n",
    "Tweets_df.to_csv('/content/drive/MyDrive/195410257/minyak.csv', index=False)"
   ]
  },
  {
   "cell_type": "markdown",
   "metadata": {},
   "source": [
    "Baris kode `Tweets_df = twint.storage.panda.Tweets_df` berguna untuk menggunakan pandas pada file csv yang akan kita buat dengan mengimport data menuju dataframe. Kemudian kita buat file csv di folder target dengan `Tweets_df.to_csv`. File csv tersebut kita beri nama ‘minyak.csv’."
   ]
  },
  {
   "cell_type": "code",
   "execution_count": null,
   "metadata": {},
   "outputs": [],
   "source": []
  }
 ],
 "metadata": {
  "colab": {
   "authorship_tag": "ABX9TyPsRG+0IYcnDY3cGdxayhH4",
   "collapsed_sections": [],
   "name": "modul4.ipynb",
   "provenance": []
  },
  "kernelspec": {
   "display_name": "Python 3 (ipykernel)",
   "language": "python",
   "name": "python3"
  },
  "language_info": {
   "codemirror_mode": {
    "name": "ipython",
    "version": 3
   },
   "file_extension": ".py",
   "mimetype": "text/x-python",
   "name": "python",
   "nbconvert_exporter": "python",
   "pygments_lexer": "ipython3",
   "version": "3.9.7"
  }
 },
 "nbformat": 4,
 "nbformat_minor": 1
}
