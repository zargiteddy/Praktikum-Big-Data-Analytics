{
 "cells": [
  {
   "cell_type": "markdown",
   "id": "7f604fca",
   "metadata": {},
   "source": [
    "# PRAKTIKUM BIG DATA ANALYTICS - PERTEMUAN 2\n",
    "\n",
    "### TUJUAN:\n",
    "1. Mampu memahami dan mempraktekkan input output menggunakan PythonMampu mengenal dan menggunakan software yang didukung oleh Python\n",
    "2. Mampu memahami dan menggunakan tipe data dan variabel dalam Python"
   ]
  },
  {
   "cell_type": "markdown",
   "id": "46f61b82",
   "metadata": {},
   "source": [
    "# PRAKTIK"
   ]
  },
  {
   "cell_type": "markdown",
   "id": "0eb406d8",
   "metadata": {},
   "source": [
    "## 1. Menggunakan fungsi input() :"
   ]
  },
  {
   "cell_type": "code",
   "execution_count": 2,
   "id": "76127b85",
   "metadata": {},
   "outputs": [
    {
     "name": "stdout",
     "output_type": "stream",
     "text": [
      "Masukkan nama anda : Raden\n",
      "Masukkan umur : 23\n",
      "Masukkan jurusan : Informatika\n",
      "Masukkan IPK : 3.81\n",
      "====Cetak====\n",
      "Nama Anda : Raden\n",
      "Umur Anda : 23\n",
      "Jurusan Anda : Informatika\n",
      "IPK Anda : 3.81\n"
     ]
    }
   ],
   "source": [
    "nama = input(\"Masukkan nama anda : \")\n",
    "umur = input(\"Masukkan umur : \")\n",
    "jur = input(\"Masukkan jurusan : \")\n",
    "ipk = input(\"Masukkan IPK : \")\n",
    "\n",
    "print(\"====Cetak====\")\n",
    "print(\"Nama Anda : \" + nama)\n",
    "print(\"Umur Anda : \" + str(umur))\n",
    "print(\"Jurusan Anda : \" + jur)\n",
    "print(\"IPK Anda : \"+ str(ipk))"
   ]
  },
  {
   "cell_type": "markdown",
   "id": "df623b30",
   "metadata": {},
   "source": [
    "Fungsi `input()` memungkinkan pengguna untuk memasukkan nilai/value ke dalam program. Program di atas, user bisa melakukan input data nama (memasukkan value nama), umur (memasukkan value umur), jur (memasukkan value jurusan), ipk (memasukkan value IPK). Kemudian, setelah user telah memasukkan nilai-nilai tersebut, program akan langsung mencetak output sesuai dengan nilai-nilai yang telah dimasukkan oleh user dengan fungsi `print()`."
   ]
  },
  {
   "cell_type": "markdown",
   "id": "0324e1c8",
   "metadata": {},
   "source": [
    "## 2. Menggunakan fungsi input()"
   ]
  },
  {
   "cell_type": "code",
   "execution_count": 3,
   "id": "531711e2",
   "metadata": {},
   "outputs": [
    {
     "name": "stdout",
     "output_type": "stream",
     "text": [
      "Nilai Pertama : 40\n",
      "Input Nilai Kedua :3\n",
      "40  kali  3  =  120\n"
     ]
    }
   ],
   "source": [
    "a = int(input(\"Nilai Pertama : \"))\n",
    "b = int(input(\"Input Nilai Kedua :\"))\n",
    "c = a * b\n",
    "print(a,' kali ',b,' = ',c)"
   ]
  },
  {
   "cell_type": "markdown",
   "id": "a7283390",
   "metadata": {},
   "source": [
    "Program di atas intinya masih sama dengan program nomor 1. Di program nomer 2 ini, kita awali dengan mendeklarasikan variabel a yang nanti akan menginput nilai pertama dengan tipe data integer yaitu dengan baris kode `a = int(input(\"Nilai Pertama : \"))`. Lalu diikuti dengan deklarasi variabel b untuk input nilai kedua yang ditulis dengan baris kode `b = int(input(\"Input Nilai Kedua :\"))`. Kemudian nilai input dari kedua variabel tersebut kita kalikan dengan mendeklarasikan variabel baru bernama c yang berguna untuk mengalikan nilai a dan nilai b yaitu dengan baris kode `c = a * b`. Terakhir, kita tampilkan output program dengan menuliskan baris kode `print(a,' kali ',b,' = ',c)`."
   ]
  },
  {
   "cell_type": "markdown",
   "id": "05dd452d",
   "metadata": {},
   "source": [
    "## 3. Menggunakan if else"
   ]
  },
  {
   "cell_type": "code",
   "execution_count": 4,
   "id": "cb2fbb40",
   "metadata": {},
   "outputs": [
    {
     "name": "stdout",
     "output_type": "stream",
     "text": [
      "Penentuan Bilangan Genap atau Ganjil\n",
      "------------------------------------\n",
      "Bilangan = 11\n",
      "Bilangan 11 merupakan bilangan ganjil\n"
     ]
    }
   ],
   "source": [
    "# menentukan bilangan genap atau ganjil\n",
    "# menggunakan if else\n",
    "\n",
    "print('Penentuan Bilangan Genap atau Ganjil')\n",
    "print('------------------------------------')\n",
    "\n",
    "bilangan = int(input('Bilangan = '))\n",
    "\n",
    "# penentuan bilangan genap atau ganjil\n",
    "if bilangan % 2 == 0:\n",
    "    print('Bilangan', bilangan, 'merupakan bilangan genap')\n",
    "    \n",
    "else:\n",
    "    print('Bilangan', bilangan, 'merupakan bilangan ganjil')"
   ]
  },
  {
   "cell_type": "markdown",
   "id": "d98a3974",
   "metadata": {},
   "source": [
    "Di program ini kita menggunakan seleksi kondisi untuk menyeleksi input yang dimasukkan oleh user. Pertama-tama kita masukkan nilai ke variabel bilangan dengan `bilangan = int(input('Bilangan = '))`. Setelah itu kita tulis seleksi pertama dengan if yaitu `if bilangan % 2 == 0:` yang artinya “jika nilai dari variabel bilangan habis dibagi dua, maka…”, lalu kita tulis outputnya jika seleksi if tersebut bernilai `true` yaitu dengan menampilkan print('Bilangan', bilangan, 'merupakan bilangan genap'). Jika seleksi if tersebut bernilai false (nilai tidak habis dibagi dua (ganjil)), maka program akan menampilkan print('Bilangan', bilangan, 'merupakan bilangan ganjil')."
   ]
  },
  {
   "cell_type": "markdown",
   "id": "e8fd3e14",
   "metadata": {},
   "source": [
    "## 4. Menggunakan Perulangan"
   ]
  },
  {
   "cell_type": "code",
   "execution_count": 6,
   "id": "0377c42b",
   "metadata": {},
   "outputs": [
    {
     "name": "stdout",
     "output_type": "stream",
     "text": [
      "Perhitungan huruf\n",
      "-----------------\n",
      "Masukkan stringBu memey lagi belajar anaconDa\n",
      "Jumlah huruf kapital =  2\n",
      "Jumlah huruf kecil =  24\n"
     ]
    }
   ],
   "source": [
    "# perhitungan huruf\n",
    "\n",
    "print('Perhitungan huruf')\n",
    "print('-----------------')\n",
    "\n",
    "teks = input('Masukkan string')\n",
    "\n",
    "jumHurufKapital = 0\n",
    "jumHurufKecil = 0\n",
    "\n",
    "# perhitungan huruf kecil dan huruf besar\n",
    "\n",
    "for j in range(0, len(teks)):\n",
    "    kar = teks[j]\n",
    "    if kar.isupper():\n",
    "        jumHurufKapital = jumHurufKapital+1\n",
    "    elif kar.islower():\n",
    "        jumHurufKecil = jumHurufKecil+1\n",
    "        \n",
    "print('Jumlah huruf kapital = ', jumHurufKapital)\n",
    "print('Jumlah huruf kecil = ', jumHurufKecil)"
   ]
  },
  {
   "cell_type": "markdown",
   "id": "65304081",
   "metadata": {},
   "source": [
    "Pertama kita masukkan nilai berupa string ke dalam variabel teks. Lalu, kita deklarasikan dua variabel baru dengan nilai 0 (supaya saat perhitungan nilai dimulai dari 0) bernama `jumHurufKapital = 0` dan `jumHurufKecil = 0`. Lalu kita mulai perulangan dengan menuliskan `for j in range(0, len(teks)):` yang artinya loop j dilakukan di range inputan teks yang tadi sudah dimasukkan user. Kemudian di dalamnya kita tulis `kar = teks[j]` yang berfungsi sebagai pengambil value j untuk diproses di seleksi kondisi. \n",
    "\n",
    "Seleksi pertama kita gunakan if yaitu `if kar.isupper():` (fungsi isupper() berguna untuk mengambil data huruf kapital),  yang artinya “jika nilai kar adalah huruf kapital, maka…” kemudian dilanjutkan dengan menambahkan perhitungan sebesar 1 (satu) ke dalam variabel `jumHurufKapital` yaitu dengan baris kode `jumHurufKapital = jumHurufKapital+1`. \n",
    "\n",
    "Seleksi kedua adalah `elif kar.islower():` (fungsi islower() berguna untuk mengambil data huruf kecil),  yang artinya “jika nilai kar adalah huruf kecil, maka…” kemudian dilanjutkan dengan menambahkan perhitungan sebesar 1 (satu) ke dalam variabel `jumHurufKecil` yaitu dengan baris kode `jumHurufKecil = jumHurufKecil+1`. Terakhir, kita tampilkan output dengan menuliskan `print('Jumlah huruf kapital = ', jumHurufKapital)` dan `print('Jumlah huruf kecil = ', jumHurufKecil)`."
   ]
  },
  {
   "cell_type": "markdown",
   "id": "1be50f3a",
   "metadata": {},
   "source": [
    "## 5. Ketikkan script berikut ini :"
   ]
  },
  {
   "cell_type": "code",
   "execution_count": 7,
   "id": "2a49311f",
   "metadata": {
    "scrolled": false
   },
   "outputs": [
    {
     "name": "stdout",
     "output_type": "stream",
     "text": [
      "Jari-jari : 10\n"
     ]
    },
    {
     "ename": "NameError",
     "evalue": "name 'math' is not defined",
     "output_type": "error",
     "traceback": [
      "\u001b[1;31m---------------------------------------------------------------------------\u001b[0m",
      "\u001b[1;31mNameError\u001b[0m                                 Traceback (most recent call last)",
      "\u001b[1;32m~\\AppData\\Local\\Temp/ipykernel_8452/3250195607.py\u001b[0m in \u001b[0;36m<module>\u001b[1;34m\u001b[0m\n\u001b[0;32m      1\u001b[0m \u001b[0mjejari\u001b[0m \u001b[1;33m=\u001b[0m \u001b[0mfloat\u001b[0m\u001b[1;33m(\u001b[0m\u001b[0minput\u001b[0m\u001b[1;33m(\u001b[0m\u001b[1;34m\"Jari-jari : \"\u001b[0m\u001b[1;33m)\u001b[0m\u001b[1;33m)\u001b[0m\u001b[1;33m\u001b[0m\u001b[1;33m\u001b[0m\u001b[0m\n\u001b[1;32m----> 2\u001b[1;33m \u001b[0mluas\u001b[0m \u001b[1;33m=\u001b[0m \u001b[0mmath\u001b[0m\u001b[1;33m.\u001b[0m\u001b[0mpi\u001b[0m \u001b[1;33m*\u001b[0m \u001b[0mjejari\u001b[0m \u001b[1;33m*\u001b[0m \u001b[0mjejari\u001b[0m\u001b[1;33m\u001b[0m\u001b[1;33m\u001b[0m\u001b[0m\n\u001b[0m\u001b[0;32m      3\u001b[0m \u001b[0mprint\u001b[0m\u001b[1;33m(\u001b[0m\u001b[1;34m\"Luas %.5f\"\u001b[0m \u001b[1;33m%\u001b[0m\u001b[1;33m(\u001b[0m\u001b[0mluas\u001b[0m\u001b[1;33m)\u001b[0m\u001b[1;33m)\u001b[0m\u001b[1;33m\u001b[0m\u001b[1;33m\u001b[0m\u001b[0m\n",
      "\u001b[1;31mNameError\u001b[0m: name 'math' is not defined"
     ]
    }
   ],
   "source": [
    "jejari = float(input(\"Jari-jari : \"))\n",
    "luas = math.pi * jejari * jejari\n",
    "print(\"Luas %.5f\" %(luas))"
   ]
  },
  {
   "cell_type": "markdown",
   "id": "e9257ba5",
   "metadata": {},
   "source": [
    "Program di atas adalah program untuk menghitung luas lingkaran. Pertama, kita masukkan input jari-jari bertipe data float ke dalam variabel jejari dengan baris kode `jejari = float(input(\"Jari-jari : \"))`. Lalu kita buat variabel luas yang menampung perhitungan luas lingkaran yaitu `luas = 2 * math.pi * jejari * jejari`. Kemudian, kita tampilkan hasil output dengan menuliskan `print(\"Luas %.2f\" %(luas))`. Tetapi, justru malah terjadi error. Kenapa error? Karena variable atau fungsi “pi” tidak dikenal. Untuk menggunakan fungsi matematika seperti “pi”, perlu dilakukan import library `math` sebelum pi dipanggil."
   ]
  },
  {
   "cell_type": "markdown",
   "id": "e62e02b0",
   "metadata": {},
   "source": [
    "## 6. Modifikasilah program no.5 dengan mengimport library Math"
   ]
  },
  {
   "cell_type": "code",
   "execution_count": 8,
   "id": "8a32a3bf",
   "metadata": {},
   "outputs": [
    {
     "name": "stdout",
     "output_type": "stream",
     "text": [
      "Jari-jari : 10\n",
      "Luas 314.15927\n"
     ]
    }
   ],
   "source": [
    "import math\n",
    "\n",
    "jejari = float(input(\"Jari-jari : \"))\n",
    "luas = math.pi * jejari * jejari\n",
    "print(\"Luas %.5f\" %(luas))"
   ]
  },
  {
   "cell_type": "markdown",
   "id": "e6f3edcd",
   "metadata": {},
   "source": [
    "math merupakan library/module built-in di Python yang berguna untuk mengimport fungsi-fungsi matematika. Untuk mengaplikasikannya, kita tulis `import math` dan setelah  itu pi kita integrasikan dengan module math yaitu dengan menuliskan `math.pi`."
   ]
  },
  {
   "cell_type": "markdown",
   "id": "7cc8c433",
   "metadata": {},
   "source": [
    "## 7. Jalankan lagi program tersebut, isikan berbagai nilai jari-jari termasuk berisi angka pecahan, lalu lihat hasil hitungan luasnya! Bagaimana dampak penggunaan %.2f? bagaimana dampaknya jika %.2f diganti dengan 5f?"
   ]
  },
  {
   "cell_type": "markdown",
   "id": "63c2aea2",
   "metadata": {},
   "source": [
    "Dampak penggunaan `%.2f`:"
   ]
  },
  {
   "cell_type": "code",
   "execution_count": 9,
   "id": "786dbc12",
   "metadata": {},
   "outputs": [
    {
     "name": "stdout",
     "output_type": "stream",
     "text": [
      "Jari-jari : 7\n",
      "Luas 153.94\n"
     ]
    }
   ],
   "source": [
    "import math\n",
    "\n",
    "jejari = float(input(\"Jari-jari : \"))\n",
    "luas = math.pi * jejari * jejari\n",
    "print(\"Luas %.2f\" %(luas))"
   ]
  },
  {
   "cell_type": "markdown",
   "id": "93b46545",
   "metadata": {},
   "source": [
    "Dampak penggunaan `%.5f`:"
   ]
  },
  {
   "cell_type": "code",
   "execution_count": 10,
   "id": "687897a5",
   "metadata": {},
   "outputs": [
    {
     "name": "stdout",
     "output_type": "stream",
     "text": [
      "Jari-jari : 7\n",
      "Luas 153.93804\n"
     ]
    }
   ],
   "source": [
    "import math\n",
    "\n",
    "jejari = float(input(\"Jari-jari : \"))\n",
    "luas = math.pi * jejari * jejari\n",
    "print(\"Luas %.5f\" %(luas))"
   ]
  },
  {
   "cell_type": "markdown",
   "id": "794e7804",
   "metadata": {},
   "source": [
    "# LATIHAN"
   ]
  },
  {
   "cell_type": "markdown",
   "id": "29f8370a",
   "metadata": {},
   "source": [
    "## 1. Jelaskan hasil program no.6 dan no.7\n",
    "\n",
    "### Hasil program no.6:\n",
    "Di program ini kita menggunakan module math untuk mendapatkan nilai pi untuk melakukan operasi perhitungan luas lingkaran. Math merupakan library/module built-in di Python yang berguna untuk mengimport fungsi-fungsi matematika. Untuk mengaplikasikannya, kita tulis import math dan setelah itu pi kita integrasikan dengan module math yaitu dengan menuliskan `math.pi`. \n",
    "\n",
    "Di program ini, kita mengambil input 10 dan program menampilkan output 314.16. Kenapa hasilnya seperti ini? Karena kita menggunakan rumus luas lingkaran untuk memproses input berupa nilai 10. Rumus tersebut kita tulis di program dengan baris kode `luas = math.pi * jejari * jejari`. Karena kita menggunakan jari-jari bernilai 10, maka rumus kita terapkan menjadi 3.14 * 10 * 10 yang menghasilkan output 314.16. Kita menggunakan `%.2f` supaya program menampilkan output dengan dua angka setelah titik desimal.\n",
    "\n",
    "### Hasil program no. 7:\n",
    "Program di nomer 7 ini kita bagi menjadi dua bagian. Bagian pertama adalah saat kita menggunakan `%.2f`, bagian kedua adalah saat kita menggunakan `%.5f`. \n",
    "\n",
    "`%.2f` adalah sebuah _format specifiers_ yang artinya adalah kita menampilkan output bertipe data float (f) dengan presisi 2 digit angka setelah titik desimal. Dampak atau efek penggunaan `%.2f` adalah program akan menampilkan output dengan dua angka setelah titik desimal. Di program tersebut kita menampilkan: `3.14 * 7 * 7 = 153.94`\n",
    "\n",
    "`%.5f` adalah sebuah _format specifiers_ yang artinya adalah kita menampilkan output bertipe data float (f) dengan presisi 5 digit angka setelah titik desimal. Dampak atau efek penggunaan `%.5f` adalah program akan menampilkan output dengan lima angka setelah titik desimal. Di program tersebut kita menampilkan: `3.14 * 7 * 7 =  153.93804`"
   ]
  },
  {
   "cell_type": "markdown",
   "id": "a39d0217",
   "metadata": {},
   "source": [
    "## 2. Carilah contoh penggunaan fungsi raw_input() dan berikan contoh programnya"
   ]
  },
  {
   "attachments": {
    "rawinput.png": {
     "image/png": "[encoded data removed]"
    }
   },
   "cell_type": "markdown",
   "id": "b9f07e25",
   "metadata": {},
   "source": [
    "Di Python3, raw_input sudah deprecated. Sehingga disini saya menggunakan Python 2 interpreter menggunakan terminal di OS linux mint laptop saya (laptop saya memiliki dua OS, windows 10 dan Linux Mint) \n",
    "\n",
    "![rawinput.png](attachment:rawinput.png)\n",
    "\n",
    "Penggunaan fungsi raw_input adalah untuk mengambil input atau masukan berupa text/string. Di program tersebut kita membuat beberapa perintah sederhana seperti memasukkan nama dengan baris kode `raw_input(“Nama = “)`, memasukkan prodi dengan baris kode `raw_input(“Prodi = “)`, dan memasukkan alamat dengan baris kode `raw_input(“Tempat tinggal = “)`. Untuk data inputnya saya menggunakan nama saya (Raden Isnawan Argi Aryasatya), prodi informatika, dan tempat tinggal Yogyakarta. Catatan: `raw_inpu`t hanya bisa diterapkan di Python 2. Di Python 3, `raw_input()` sudah diganti dengan `input()`."
   ]
  },
  {
   "cell_type": "markdown",
   "id": "c14661c0",
   "metadata": {},
   "source": [
    "# TUGAS"
   ]
  },
  {
   "cell_type": "markdown",
   "id": "8c3aa7ab",
   "metadata": {},
   "source": [
    "## 1. Buatlah program python untuk:"
   ]
  },
  {
   "cell_type": "markdown",
   "id": "07846842",
   "metadata": {},
   "source": [
    "**a. Menghitung rata-rata dari 3 bilangan yang diisikan sembarang (bisa pecahan)**"
   ]
  },
  {
   "cell_type": "code",
   "execution_count": 2,
   "id": "1e5612e9",
   "metadata": {},
   "outputs": [
    {
     "name": "stdout",
     "output_type": "stream",
     "text": [
      "bilangan pertama : 2\n",
      "bilangan kedua : 4.4\n",
      "bilangan ketiga : 8\n",
      "rata-rata =  4.8\n"
     ]
    }
   ],
   "source": [
    "pertama = float(input(\"bilangan pertama : \"))\n",
    "kedua = float(input(\"bilangan kedua : \"))\n",
    "ketiga = float(input(\"bilangan ketiga : \"))\n",
    "mean = (pertama + kedua + ketiga)/3\n",
    "print(\"rata-rata = \",mean)"
   ]
  },
  {
   "cell_type": "markdown",
   "id": "df3ad72d",
   "metadata": {},
   "source": [
    "Di program ini user menginput nilai untuk bilangan pertama, bilangan kedua, dan bilangan ketiga. User menginput nilai bertipe data float ke dalam variabel pertama, variabel kedua, dan variabel ketiga. Kita menggunakan float supaya user bisa memasukkan nilai pecahan/desimal dan outputnya juga akan berbentuk pecahan.  Lalu kita mendeklarasikan variabel mean yang menampung perhitungan rata-rata dari ketiga nilai yang tadi telah dimasukkan yaitu dengan baris kode `mean = (pertama + kedua + ketiga)/3`. Terakhir, kita tampilkan output dengan menuliskan `print(\"rata-rata = \",mean)`. Di program tersebut kita memasukkan 2 untuk bilangan pertama, 4.4 untuk bilangan kedua, dan 8 untuk bilangan ketigas. Lalu ketiga bilangan tersebut ditambahkan kemudian hasilnya dibagi 3 sehingga menghasilkan rata-rata yaitu 4.8."
   ]
  },
  {
   "cell_type": "markdown",
   "id": "eaf3f8c5",
   "metadata": {},
   "source": [
    "**b. Menghitung hasil dari fungsi f(x) = 2x3 + 2x + 15/x, jika x adalah suatu nilai pecahan yang diisikan sembarang**"
   ]
  },
  {
   "cell_type": "code",
   "execution_count": 1,
   "id": "46aeb603",
   "metadata": {},
   "outputs": [
    {
     "name": "stdout",
     "output_type": "stream",
     "text": [
      "masukkan nilai x: 6.7\n",
      "fungsi persamaan = 2x^3+2x+15/x\n",
      "hasil =  617.1648059701492\n"
     ]
    }
   ],
   "source": [
    "x = float(input(\"masukkan nilai x: \"))\n",
    "f = (2*(x**3))+(2*x)+(15/x)\n",
    "print(\"fungsi persamaan = 2x^3+2x+15/x\")\n",
    "print(\"hasil = \",f)"
   ]
  },
  {
   "cell_type": "markdown",
   "id": "2d1b47fd",
   "metadata": {},
   "source": [
    "Pertama kita memasukkan nilai input bertipe data float untuk x. Lalu, deklarasikan variabel f untuk menampung fungsi persamaan 2x^3+2x+15/x dengan menuliskan `baris kode f = (2*(x**3))+(2*x)+(15/x)`. Jadi, setelah kita menginput suatu nilai misalnya seperti di program atas nilainya 6.7, maka 6.7 akan dimasukkan sebagai x ke variabel f untuk diaplikasikan ke persamaan 2x^3+2x+15/x. Sehingga menghasilkan output 617.1648059701492."
   ]
  },
  {
   "cell_type": "code",
   "execution_count": null,
   "id": "0f605397",
   "metadata": {},
   "outputs": [],
   "source": []
  }
 ],
 "metadata": {
  "kernelspec": {
   "display_name": "Python 3 (ipykernel)",
   "language": "python",
   "name": "python3"
  },
  "language_info": {
   "codemirror_mode": {
    "name": "ipython",
    "version": 3
   },
   "file_extension": ".py",
   "mimetype": "text/x-python",
   "name": "python",
   "nbconvert_exporter": "python",
   "pygments_lexer": "ipython3",
   "version": "3.9.7"
  }
 },
 "nbformat": 4,
 "nbformat_minor": 5
}
