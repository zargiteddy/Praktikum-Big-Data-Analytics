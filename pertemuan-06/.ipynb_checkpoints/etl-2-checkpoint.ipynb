{
 "cells": [
  {
   "cell_type": "markdown",
   "id": "07862704",
   "metadata": {},
   "source": [
    "### 5. Langkah berikutnya membaca file pegawai_cab01.xlsx. Buatlah file baru bernama etl-2.py dan ketikkan script berikut ini:"
   ]
  },
  {
   "cell_type": "code",
   "execution_count": 4,
   "id": "bcc96d4f",
   "metadata": {
    "scrolled": true
   },
   "outputs": [
    {
     "name": "stdout",
     "output_type": "stream",
     "text": [
      "   nik  nama   job_id\n",
      "0  403  Rina   SA_REP\n",
      "1  404  Toro  IT_SUPP\n",
      "3  406  Rini   SA_REP\n"
     ]
    }
   ],
   "source": [
    "import pandas as pd\n",
    "\n",
    "#baca file excel\n",
    "df_excel = pd.read_excel(\"pegawai_cab02.xlsx\")\n",
    "\n",
    "#filter hanya baris yang statusnya bukan OUT\n",
    "df_excel_filter = df_excel[df_excel['status'] != 'OUT']\n",
    "\n",
    "#filter hanya kolom yang dibutuhkan\n",
    "df_excel_filter = df_excel_filter[['nik','nama','job']]\n",
    "\n",
    "#rename kolom\n",
    "df_excel_filter = df_excel_filter.rename(columns={'job':'job_id'})\n",
    "print(df_excel_filter)"
   ]
  },
  {
   "cell_type": "markdown",
   "id": "6a3bc29f",
   "metadata": {},
   "source": [
    "Alur penulisan kode pada nomor ini secara garis besar dilakukan melalui 4 tahap:\n",
    "- Pertama, membaca file excel dari file pegawai_cab02.xlsx\n",
    "- Kedua, mengambil data pegawai yang statusnya tidak OUT\n",
    "- Ketiga, kita filter kolom yang sesuai dengan file pegawai_cab01.xlsx\n",
    "- Keempat, karena kedua hasil tersebut akan digabung maka nama kolom harus sama. Sehingga langkah berikutnya adalah memodifikasi nama kolom `job` menjadi `job_id`."
   ]
  },
  {
   "cell_type": "markdown",
   "id": "df50637c",
   "metadata": {},
   "source": [
    "_**Langkah selanjutnya ada di file etl-3.ipynb**_"
   ]
  },
  {
   "cell_type": "code",
   "execution_count": null,
   "id": "27b3fce8",
   "metadata": {},
   "outputs": [],
   "source": []
  }
 ],
 "metadata": {
  "kernelspec": {
   "display_name": "Python 3 (ipykernel)",
   "language": "python",
   "name": "python3"
  },
  "language_info": {
   "codemirror_mode": {
    "name": "ipython",
    "version": 3
   },
   "file_extension": ".py",
   "mimetype": "text/x-python",
   "name": "python",
   "nbconvert_exporter": "python",
   "pygments_lexer": "ipython3",
   "version": "3.9.7"
  }
 },
 "nbformat": 4,
 "nbformat_minor": 5
}
