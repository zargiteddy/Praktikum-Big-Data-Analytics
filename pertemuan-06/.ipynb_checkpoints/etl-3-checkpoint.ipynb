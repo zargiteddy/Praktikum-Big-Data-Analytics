{
 "cells": [
  {
   "cell_type": "markdown",
   "id": "8917caee",
   "metadata": {},
   "source": [
    "### 6. Gabungkan isi etl-1.py dan etl-2.py ke file baru bernama etl-3.py, lalu lengkapi program dengan mengetikkan script berikut ini:"
   ]
  },
  {
   "cell_type": "code",
   "execution_count": 1,
   "id": "de697895",
   "metadata": {},
   "outputs": [
    {
     "name": "stdout",
     "output_type": "stream",
     "text": [
      "     nik             nama      job_id\n",
      "0    206    William Gietz  AC_ACCOUNT\n",
      "1    205  Shelley Higgins      AC_MGR\n",
      "2    200  Jennifer Whalen     AD_ASST\n",
      "3    100      Steven King     AD_PRES\n",
      "4    101    Neena Kochhar       AD_VP\n",
      "..   ...              ...         ...\n",
      "102  120    Matthew Weiss      ST_MAN\n",
      "103  121       Adam Fripp      ST_MAN\n",
      "104  122   Payam Kaufling      ST_MAN\n",
      "105  123   Shanta Vollman      ST_MAN\n",
      "106  124    Kevin Mourgos      ST_MAN\n",
      "\n",
      "[107 rows x 3 columns]\n",
      "     nik             nama      job_id\n",
      "0    206    William Gietz  AC_ACCOUNT\n",
      "1    205  Shelley Higgins      AC_MGR\n",
      "2    200  Jennifer Whalen     AD_ASST\n",
      "3    100      Steven King     AD_PRES\n",
      "4    101    Neena Kochhar       AD_VP\n",
      "..   ...              ...         ...\n",
      "105  123   Shanta Vollman      ST_MAN\n",
      "106  124    Kevin Mourgos      ST_MAN\n",
      "0    403             Rina      SA_REP\n",
      "1    404             Toro     IT_SUPP\n",
      "3    406             Rini      SA_REP\n",
      "\n",
      "[110 rows x 3 columns]\n"
     ]
    }
   ],
   "source": [
    "import pandas as pd\n",
    "\n",
    "#baca file csv\n",
    "df_csv = pd.read_csv(\"pegawai_cab01.csv\")\n",
    "\n",
    "df_csv_filter = df_csv[['nik','nama','job_id']]\n",
    "print(df_csv_filter)\n",
    "\n",
    "#baca file excel\n",
    "df_excel = pd.read_excel(\"pegawai_cab02.xlsx\")\n",
    "\n",
    "#filter hanya baris yang statusnya bukan OUT\n",
    "df_excel_filter = df_excel[df_excel['status'] != 'OUT']\n",
    "\n",
    "#filter hanya kolom yang dibutuhkan\n",
    "df_excel_filter = df_excel_filter[['nik','nama','job']]\n",
    "\n",
    "#rename kolom\n",
    "df_excel_filter = df_excel_filter.rename(columns={'job':'job_id'})\n",
    "\n",
    "df_gabung = df_csv_filter.append(df_excel_filter)\n",
    "\n",
    "print(df_gabung)"
   ]
  },
  {
   "cell_type": "markdown",
   "id": "8c6dd9fb",
   "metadata": {},
   "source": [
    "File etl-3 pada dasarnya berisi seluruh gabungan kode dari etl-1 dan etl-2, lalu diakhiri dengan penggabungan data dari dua file tersebut dengan fungsi append yaitu dengan menuliskan baris `kode df_gabung = df_csv_filter.append(df_excel_filter)`."
   ]
  },
  {
   "cell_type": "markdown",
   "id": "599775b6",
   "metadata": {},
   "source": [
    "_**Langkah selanjutnya ada di file etl-4.ipynb**_"
   ]
  },
  {
   "cell_type": "code",
   "execution_count": null,
   "id": "4c3ac28f",
   "metadata": {},
   "outputs": [],
   "source": []
  }
 ],
 "metadata": {
  "kernelspec": {
   "display_name": "Python 3 (ipykernel)",
   "language": "python",
   "name": "python3"
  },
  "language_info": {
   "codemirror_mode": {
    "name": "ipython",
    "version": 3
   },
   "file_extension": ".py",
   "mimetype": "text/x-python",
   "name": "python",
   "nbconvert_exporter": "python",
   "pygments_lexer": "ipython3",
   "version": "3.9.7"
  }
 },
 "nbformat": 4,
 "nbformat_minor": 5
}
